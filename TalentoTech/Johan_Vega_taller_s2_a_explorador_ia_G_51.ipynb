{
  "cells": [
    {
      "cell_type": "markdown",
      "id": "24ccd45c-f156-4f17-8203-62cfd2dea1ee",
      "metadata": {
        "id": "24ccd45c-f156-4f17-8203-62cfd2dea1ee"
      },
      "source": [
        "#Cadenas"
      ]
    },
    {
      "cell_type": "markdown",
      "id": "0a48696e-f0e1-4ab7-9b69-03611bc76ff2",
      "metadata": {
        "id": "0a48696e-f0e1-4ab7-9b69-03611bc76ff2"
      },
      "source": [
        "##Dando formato a Cadenas"
      ]
    },
    {
      "cell_type": "markdown",
      "id": "7af77bbe-9069-4c0e-a55a-566d5da7c5b4",
      "metadata": {
        "id": "7af77bbe-9069-4c0e-a55a-566d5da7c5b4"
      },
      "source": [
        "###Tipos de Presentación"
      ]
    },
    {
      "cell_type": "markdown",
      "id": "2a458ccf-454b-4b93-b773-4749178e818c",
      "metadata": {
        "id": "2a458ccf-454b-4b93-b773-4749178e818c"
      },
      "source": [
        "Dale formato a 3.141592 a 3 decimales como cadena usando f'"
      ]
    },
    {
      "cell_type": "code",
      "execution_count": 1,
      "id": "c47ac784-6fe5-4a24-abdc-3d0b2c537233",
      "metadata": {
        "id": "c47ac784-6fe5-4a24-abdc-3d0b2c537233",
        "colab": {
          "base_uri": "https://localhost:8080/"
        },
        "outputId": "e8968ba7-e99f-43f6-a255-35f1f20834c5"
      },
      "outputs": [
        {
          "output_type": "stream",
          "name": "stdout",
          "text": [
            "3.142\n"
          ]
        }
      ],
      "source": [
        "numero = 3.141592\n",
        "\n",
        "numero_formateado = f\"{numero:.3f}\"\n",
        "\n",
        "print(numero_formateado)\n"
      ]
    },
    {
      "cell_type": "markdown",
      "id": "68e1738d-d9be-4d08-b4ea-b764dc3a0f41",
      "metadata": {
        "id": "68e1738d-d9be-4d08-b4ea-b764dc3a0f41"
      },
      "source": [
        "Enteros, con el tipo de presentación d\n",
        "\n",
        "Generador de Contraseñas:\n",
        "\n",
        "Desarrolla un programa que genere contraseñas aleatorias con un formato específico. La contraseña debe tener una longitud determinada y estar compuesta por una combinación de letras minúsculas y dígitos. El programa debe solicitar al usuario la longitud deseada para la contraseña y luego generar una contraseña aleatoria en formato de presentación con enteros."
      ]
    },
    {
      "cell_type": "code",
      "execution_count": null,
      "id": "93f73be0-08a4-40e6-bd6a-9a2ccd15f2e0",
      "metadata": {
        "id": "93f73be0-08a4-40e6-bd6a-9a2ccd15f2e0"
      },
      "outputs": [],
      "source": [
        "import random\n",
        "\n",
        "def generar_contraseña(longitud):\n",
        "    caracteres = \"abcdefghijklmnopqrstuvwxyz0123456789\"\n",
        "    contraseña = ''.join(random.choice(caracteres) for _ in range(longitud))\n",
        "    return contraseña\n",
        "\n",
        "longitud = int(input(\"Ingrese la longitud deseada para la contraseña: \"))\n",
        "contraseña_generada = generar_contraseña(longitud)\n",
        "\n",
        "print(\"La contraseña generada es:\", contraseña_generada)\n"
      ]
    },
    {
      "cell_type": "markdown",
      "source": [
        "Contador de Vocales:\n",
        "\n",
        "Escribe un programa que cuente el número de vocales en una cadena ingresada por el usuario. El programa debe utilizar formato de presentación con enteros para mostrar el recuento de cada vocal por separado.\n"
      ],
      "metadata": {
        "id": "kKv3p9sPoDjO"
      },
      "id": "kKv3p9sPoDjO"
    },
    {
      "cell_type": "code",
      "source": [
        "def contar_vocales(cadena):\n",
        "    vocales = 'aeiouAEIOU'\n",
        "    recuento = {vocal: 0 for vocal in vocales}\n",
        "    for letra in cadena:\n",
        "        if letra in vocales:\n",
        "            recuento[letra.lower()] += 1\n",
        "    return recuento\n",
        "\n",
        "cadena = input(\"Ingrese una cadena de texto: \")\n",
        "recuento_vocales = contar_vocales(cadena)\n",
        "\n",
        "for vocal, cantidad in recuento_vocales.items():\n",
        "    print(f\"La cantidad de '{vocal}' en la cadena es: {cantidad}\")\n"
      ],
      "metadata": {
        "id": "vUda67SUoErT"
      },
      "id": "vUda67SUoErT",
      "execution_count": null,
      "outputs": []
    },
    {
      "cell_type": "markdown",
      "id": "74c5bcd8-f603-4aff-8c70-e41ba6c042d0",
      "metadata": {
        "id": "74c5bcd8-f603-4aff-8c70-e41ba6c042d0"
      },
      "source": [
        "Caracteres con el tipo de presentación c\n",
        "\n",
        "Contador de Caracteres Específicos:\n",
        "\n",
        "Desarrolla un programa que cuente el número de ocurrencias de caracteres específicos en una cadena ingresada por el usuario. El programa debe permitir al usuario ingresar el carácter que desea contar y luego mostrar el recuento utilizando el formato de presentación c."
      ]
    },
    {
      "cell_type": "code",
      "execution_count": null,
      "id": "ee39ec1f-dd90-457c-bcd1-0f6aec52f7ef",
      "metadata": {
        "id": "ee39ec1f-dd90-457c-bcd1-0f6aec52f7ef"
      },
      "outputs": [],
      "source": [
        "def contar_caracter(cadena, caracter):\n",
        "    contador = cadena.count(caracter)\n",
        "    return contador\n",
        "\n",
        "cadena = input(\"Ingrese una cadena de texto: \")\n",
        "caracter = input(\"Ingrese el carácter que desea contar: \")\n",
        "\n",
        "recuento = contar_caracter(cadena, caracter)\n",
        "\n",
        "print(f\"El carácter '{caracter}' aparece {recuento} veces en la cadena.\")\n"
      ]
    },
    {
      "cell_type": "markdown",
      "source": [
        "Formateador de Palabras en Mayúsculas:\n",
        "\n",
        "Escribe un programa que tome una cadena de texto ingresada por el usuario y la convierta en mayúsculas, pero manteniendo en minúsculas todos los caracteres que no son letras. Utiliza el formato de presentación c para mostrar cada carácter en el resultado."
      ],
      "metadata": {
        "id": "qOO-h_hqoYDN"
      },
      "id": "qOO-h_hqoYDN"
    },
    {
      "cell_type": "code",
      "source": [
        "def convertir_a_mayusculas(cadena):\n",
        "    nueva_cadena = ''\n",
        "    for caracter in cadena:\n",
        "        if caracter.isalpha():\n",
        "            nueva_cadena += caracter.upper()\n",
        "        else:\n",
        "            nueva_cadena += caracter\n",
        "    return nueva_cadena\n",
        "\n",
        "cadena = input(\"Ingrese una cadena de texto: \")\n",
        "\n",
        "resultado = convertir_a_mayusculas(cadena)\n",
        "\n",
        "print(f\"La cadena en mayúsculas es: {resultado}\")\n"
      ],
      "metadata": {
        "id": "16VR0xx3oejm"
      },
      "id": "16VR0xx3oejm",
      "execution_count": null,
      "outputs": []
    },
    {
      "cell_type": "markdown",
      "id": "5c625417-0ff1-456c-ba13-53a390e8223c",
      "metadata": {
        "id": "5c625417-0ff1-456c-ba13-53a390e8223c"
      },
      "source": [
        "Cadenas (strings) con el tipo de presentación s\n",
        "\n",
        "Verificador de Palíndromos:\n",
        "\n",
        "Desarrolla un programa que verifique si una cadena ingresada por el usuario es un palíndromo o no. Un palíndromo es una palabra o frase que se lee igual hacia adelante que hacia atrás, ignorando los espacios y la puntuación. El programa debe utilizar el formato de presentación s para mostrar si la cadena es un palíndromo o no."
      ]
    },
    {
      "cell_type": "code",
      "source": [
        "def es_palindromo(cadena):\n",
        "    # Eliminar espacios y puntuación\n",
        "    cadena_limpia = ''.join(caracter.lower() for caracter in cadena if caracter.isalnum())\n",
        "    # Verificar si la cadena es igual a su reverso\n",
        "    return cadena_limpia == cadena_limpia[::-1]\n",
        "\n",
        "cadena = input(\"Ingrese una palabra o frase para verificar si es un palíndromo: \")\n",
        "\n",
        "if es_palindromo(cadena):\n",
        "    print(f\"'{cadena}' es un palíndromo.\")\n",
        "else:\n",
        "    print(f\"'{cadena}' no es un palíndromo.\")\n"
      ],
      "metadata": {
        "id": "besQCA22osh4"
      },
      "id": "besQCA22osh4",
      "execution_count": null,
      "outputs": []
    },
    {
      "cell_type": "markdown",
      "source": [
        "Contador de Palabras:\n",
        "\n",
        "Escribe un programa que cuente el número de palabras en una cadena ingresada por el usuario. El programa debe utilizar el tipo de presentación s para mostrar cada palabra individualmente y luego mostrar el recuento total de palabras."
      ],
      "metadata": {
        "id": "LbFiTy4_oujR"
      },
      "id": "LbFiTy4_oujR"
    },
    {
      "cell_type": "code",
      "source": [
        "def contar_palabras(cadena):\n",
        "    palabras = cadena.split()\n",
        "    return len(palabras), palabras\n",
        "\n",
        "cadena = input(\"Ingrese una cadena de texto para contar las palabras: \")\n",
        "\n",
        "total_palabras, lista_palabras = contar_palabras(cadena)\n",
        "\n",
        "print(\"Las palabras en la cadena son:\")\n",
        "for palabra in lista_palabras:\n",
        "    print(palabra)\n",
        "print(f\"\\nTotal de palabras: {total_palabras}\")\n"
      ],
      "metadata": {
        "id": "bNvviiJYoyjy"
      },
      "id": "bNvviiJYoyjy",
      "execution_count": null,
      "outputs": []
    },
    {
      "cell_type": "markdown",
      "id": "e55fa6e7-4bc0-4304-9b82-f26dffd0feb0",
      "metadata": {
        "id": "e55fa6e7-4bc0-4304-9b82-f26dffd0feb0"
      },
      "source": [
        "#### Por tu cuenta\n",
        "\n",
        "Usa el tipo c para mostrar los caracteres que pertenecen a 58,45,41"
      ]
    },
    {
      "cell_type": "code",
      "execution_count": 2,
      "id": "c30dd78d-a42f-4111-8c7e-9e40e8b6c402",
      "metadata": {
        "id": "c30dd78d-a42f-4111-8c7e-9e40e8b6c402",
        "colab": {
          "base_uri": "https://localhost:8080/"
        },
        "outputId": "f9e93190-3363-4302-edd8-c95be6f61aa9"
      },
      "outputs": [
        {
          "output_type": "stream",
          "name": "stdout",
          "text": [
            ": - ) "
          ]
        }
      ],
      "source": [
        "valores = [58, 45, 41]\n",
        "\n",
        "for valor in valores:\n",
        "    print(f\"{chr(valor)}\", end=' ')"
      ]
    },
    {
      "cell_type": "markdown",
      "id": "a650b097-f8ff-40ca-82e2-d31edd0bbdf5",
      "metadata": {
        "id": "a650b097-f8ff-40ca-82e2-d31edd0bbdf5"
      },
      "source": [
        "### Anchos y alineación"
      ]
    },
    {
      "cell_type": "markdown",
      "id": "83a9d37d-8e88-446c-b46a-8a5202b39939",
      "metadata": {
        "id": "83a9d37d-8e88-446c-b46a-8a5202b39939"
      },
      "source": [
        "En una cadena f' puedes especificar la alineación y la cantidad de espacios al inicio y al final"
      ]
    },
    {
      "cell_type": "code",
      "execution_count": null,
      "id": "913a1c8c-61ea-4ff3-8ea9-f07e02c25a85",
      "metadata": {
        "id": "913a1c8c-61ea-4ff3-8ea9-f07e02c25a85"
      },
      "outputs": [],
      "source": [
        "nombre = \"Juan\"\n",
        "edad = 30\n",
        "\n",
        "# Alineación a la izquierda con 10 espacios al inicio y 5 al final\n",
        "cadena1 = f'{nombre:<10} tiene {edad} años.'\n",
        "print(cadena1)\n",
        "\n",
        "# Alineación a la derecha con 5 espacios al inicio y 10 al final\n",
        "cadena2 = f'{nombre:>5} tiene {edad} años.'\n",
        "print(cadena2)\n",
        "\n",
        "# Centrado con 3 espacios al inicio y al final\n",
        "cadena3 = f'{nombre:^10} tiene {edad} años.'\n",
        "print(cadena3)\n"
      ]
    },
    {
      "cell_type": "markdown",
      "id": "4e22e800-b810-46ed-84ea-6749ed492332",
      "metadata": {
        "id": "4e22e800-b810-46ed-84ea-6749ed492332"
      },
      "source": [
        "Pero además de especificar la longitud del campo y la cantidad de decimales, también puedes alinear a la cadena con los símbolos > y <."
      ]
    },
    {
      "cell_type": "code",
      "execution_count": null,
      "id": "b614baf4-7774-43cc-a54f-92d15e03cb7f",
      "metadata": {
        "id": "b614baf4-7774-43cc-a54f-92d15e03cb7f"
      },
      "outputs": [],
      "source": [
        "pi = 3.14159265359\n",
        "\n",
        "# Formato con longitud del campo de 10 caracteres, 2 decimales y alineación a la derecha\n",
        "cadena_derecha = f'Pi: {pi:>10.2f}'\n",
        "print(cadena_derecha)\n",
        "\n",
        "# Formato con longitud del campo de 10 caracteres, 2 decimales y alineación a la izquierda\n",
        "cadena_izquierda = f'Pi: {pi:<10.2f}'\n",
        "print(cadena_izquierda)\n"
      ]
    },
    {
      "cell_type": "markdown",
      "id": "a7caa683-95b6-411c-9d7b-87a193001967",
      "metadata": {
        "id": "a7caa683-95b6-411c-9d7b-87a193001967"
      },
      "source": [
        "Y para centrar, tanto el texto como los valores"
      ]
    },
    {
      "cell_type": "code",
      "execution_count": null,
      "id": "b8de6f4f-af25-44fe-95df-298937ae0171",
      "metadata": {
        "id": "b8de6f4f-af25-44fe-95df-298937ae0171"
      },
      "outputs": [],
      "source": [
        "nombre = \"Juan\"\n",
        "edad = 30\n",
        "\n",
        "# Centrado del texto y de los valores\n",
        "cadena_centro = f'{nombre:^10} | {edad:^5}'\n",
        "print(cadena_centro)\n"
      ]
    },
    {
      "cell_type": "markdown",
      "id": "3ba44945-c022-42a6-b133-d6372acbc34d",
      "metadata": {
        "id": "3ba44945-c022-42a6-b133-d6372acbc34d"
      },
      "source": [
        "#### Por tu cuenta\n",
        "\n",
        "Muestra el nombre \"Daniel\" en 3 filas diferentes alineados a la derecha, centro e izquierda en un campo de 10 caracteres. Encierra cada fila de resultado en brackets"
      ]
    },
    {
      "cell_type": "code",
      "execution_count": null,
      "id": "ff33c3f4-25c5-4716-a631-371cde795344",
      "metadata": {
        "id": "ff33c3f4-25c5-4716-a631-371cde795344"
      },
      "outputs": [],
      "source": [
        "nombre = \"Daniel\"\n",
        "\n",
        "print(f\"[{nombre:>10}]\")\n",
        "print(f\"[{nombre:^10}]\")\n",
        "print(f\"[{nombre:<10}]\")"
      ]
    },
    {
      "cell_type": "markdown",
      "id": "c896e587-4b4c-438a-9725-0e35e31b6e20",
      "metadata": {
        "id": "c896e587-4b4c-438a-9725-0e35e31b6e20"
      },
      "source": [
        "###Formato Númerico"
      ]
    },
    {
      "cell_type": "markdown",
      "id": "6feaf495-5336-4db5-a2bd-64c665ab5648",
      "metadata": {
        "id": "6feaf495-5336-4db5-a2bd-64c665ab5648"
      },
      "source": [
        "En el caso particular de cadenas de números, si requieres mostrar el signo. Puedes agregarlo en\n",
        "el f-string"
      ]
    },
    {
      "cell_type": "code",
      "execution_count": null,
      "id": "2edf017f-00ca-4401-98b6-0ecb0ce19bd4",
      "metadata": {
        "id": "2edf017f-00ca-4401-98b6-0ecb0ce19bd4"
      },
      "outputs": [],
      "source": [
        "numero = -15\n",
        "\n",
        "# Mostrar el signo junto al número\n",
        "cadena_con_signo = f'Número con signo: {numero:+}'\n",
        "print(cadena_con_signo)\n"
      ]
    },
    {
      "cell_type": "code",
      "execution_count": null,
      "id": "76f90f0d-afae-4ccd-a087-499ad7fda1cb",
      "metadata": {
        "id": "76f90f0d-afae-4ccd-a087-499ad7fda1cb"
      },
      "outputs": [],
      "source": [
        "numero_positivo = 20\n",
        "\n",
        "# Mostrar el signo junto al número positivo\n",
        "cadena_positiva = f'Número positivo con signo: {numero_positivo:+}'\n",
        "print(cadena_positiva)\n"
      ]
    },
    {
      "cell_type": "code",
      "source": [
        "numero_negativo = -8\n",
        "\n",
        "# Mostrar el signo junto al número negativo\n",
        "cadena_negativa = f'Número negativo con signo: {numero_negativo:+}'\n",
        "print(cadena_negativa)\n"
      ],
      "metadata": {
        "id": "x-S3IgvzpmNi"
      },
      "id": "x-S3IgvzpmNi",
      "execution_count": null,
      "outputs": []
    },
    {
      "cell_type": "markdown",
      "id": "9d42e4f7-d59a-4f77-8689-898e4e18677e",
      "metadata": {
        "id": "9d42e4f7-d59a-4f77-8689-898e4e18677e"
      },
      "source": [
        "Para agregar ceros en los espacios en blanco."
      ]
    },
    {
      "cell_type": "code",
      "execution_count": null,
      "id": "7f70bec3-c2ed-4116-a529-fffada5e9734",
      "metadata": {
        "id": "7f70bec3-c2ed-4116-a529-fffada5e9734"
      },
      "outputs": [],
      "source": [
        "numero = 123\n",
        "\n",
        "# Agregar ceros en los espacios en blanco\n",
        "cadena_con_ceros = f'Número con ceros: {numero:06}'\n",
        "print(cadena_con_ceros)\n"
      ]
    },
    {
      "cell_type": "markdown",
      "id": "fa2db479-b131-4235-aa43-4947a5ebab45",
      "metadata": {
        "id": "fa2db479-b131-4235-aa43-4947a5ebab45"
      },
      "source": [
        "Regularmente a los números positivos no se les agrega el signo +. Pero, si requieres dejar el espacio en blanco para este tipo de números, utiliza un código como el siguiente"
      ]
    },
    {
      "cell_type": "code",
      "execution_count": null,
      "id": "20155918-329f-411d-a795-17c1a7d7d762",
      "metadata": {
        "id": "20155918-329f-411d-a795-17c1a7d7d762"
      },
      "outputs": [],
      "source": [
        "numero_positivo = 42\n",
        "\n",
        "# Dejar espacio en blanco para números positivos\n",
        "cadena_positiva = f'Número positivo: {numero_positivo: }'\n",
        "print(cadena_positiva)\n"
      ]
    },
    {
      "cell_type": "markdown",
      "id": "180577e9-163d-4512-b65d-cee3056ed5ed",
      "metadata": {
        "id": "180577e9-163d-4512-b65d-cee3056ed5ed"
      },
      "source": [
        "#### Por tu cuenta\n",
        "\n",
        "Imprime los valores 11483.528 y -4581.4413 cada uno precedido por su signo, en campos de 10 caracteres con separadores de miles, y su punto decimal alineado a 2 puntos de precisión."
      ]
    },
    {
      "cell_type": "code",
      "execution_count": null,
      "id": "09a0de50-d0d6-4a53-824e-fccf55f04a74",
      "metadata": {
        "id": "09a0de50-d0d6-4a53-824e-fccf55f04a74"
      },
      "outputs": [],
      "source": [
        "valor1 = 11483.528\n",
        "valor2 = -4581.4413\n",
        "\n",
        "print(f\"{valor1: +,10.2f}\")\n",
        "print(f\"{valor2: +,10.2f}\")"
      ]
    },
    {
      "cell_type": "markdown",
      "id": "d223ecab-5e4a-4b1b-b4a1-f365c346ce3c",
      "metadata": {
        "id": "d223ecab-5e4a-4b1b-b4a1-f365c346ce3c"
      },
      "source": [
        "###Concatenar Cadenas que se repiten"
      ]
    },
    {
      "cell_type": "markdown",
      "id": "f645859b-1241-4118-b850-540b65f61a84",
      "metadata": {
        "id": "f645859b-1241-4118-b850-540b65f61a84"
      },
      "source": [
        "Anteriormente utilizaste el símbolo + para concatenar cadenas. Además de esta operación puedes\n",
        "repetir una misma cadena"
      ]
    },
    {
      "cell_type": "code",
      "execution_count": null,
      "id": "0841aa9d-465d-4367-be3a-c128ce558fc9",
      "metadata": {
        "id": "0841aa9d-465d-4367-be3a-c128ce558fc9"
      },
      "outputs": [],
      "source": [
        "cadena = \"Hola \"\n",
        "repetida = cadena * 3\n",
        "print(repetida)\n"
      ]
    },
    {
      "cell_type": "code",
      "execution_count": null,
      "id": "f1c932bd-d425-46a6-88d2-fd88a03d4136",
      "metadata": {
        "id": "f1c932bd-d425-46a6-88d2-fd88a03d4136"
      },
      "outputs": [],
      "source": [
        "cadena = \"Python\"\n",
        "repetida = cadena * 5\n",
        "print(repetida)\n"
      ]
    },
    {
      "cell_type": "code",
      "execution_count": null,
      "id": "ae53e8fe-4c48-4603-9a6e-965c046a84ac",
      "metadata": {
        "id": "ae53e8fe-4c48-4603-9a6e-965c046a84ac"
      },
      "outputs": [],
      "source": [
        "cadena1 = \"Buenos días, \"\n",
        "cadena2 = \"mundo!\"\n",
        "repetida = cadena1 * 2 + cadena2\n",
        "print(repetida)\n"
      ]
    },
    {
      "cell_type": "code",
      "execution_count": null,
      "id": "51e78738-c381-4c5f-8d16-963312087da4",
      "metadata": {
        "id": "51e78738-c381-4c5f-8d16-963312087da4"
      },
      "outputs": [],
      "source": [
        "#Repetir una cadena cuatro veces y agregar un espacio entre cada repetición\n",
        "cadena = \"OpenAI\"\n",
        "repetida = (cadena + \" \") * 4\n",
        "print(repetida)\n"
      ]
    },
    {
      "cell_type": "code",
      "source": [
        "#Repetir una cadena una vez y concatenarla con otra cadena y luego repetir la combinación dos veces:\n",
        "cadena1 = \"¡Hola!\"\n",
        "cadena2 = \"¿Cómo estás?\"\n",
        "repetida = (cadena1 + cadena2) * 2\n",
        "print(repetida)\n"
      ],
      "metadata": {
        "id": "OA5wxnjBqYQY"
      },
      "id": "OA5wxnjBqYQY",
      "execution_count": null,
      "outputs": []
    },
    {
      "cell_type": "markdown",
      "id": "219fe072-a45f-45ec-b73b-2f03c407bd4d",
      "metadata": {
        "id": "219fe072-a45f-45ec-b73b-2f03c407bd4d"
      },
      "source": [
        "---"
      ]
    },
    {
      "cell_type": "markdown",
      "id": "46b2a44f-5db9-4063-b763-b5b8c32f0845",
      "metadata": {
        "id": "46b2a44f-5db9-4063-b763-b5b8c32f0845"
      },
      "source": [
        "##Otras opciones para las cadenas"
      ]
    },
    {
      "cell_type": "markdown",
      "id": "60d85acd-aa22-4665-9cf6-347af4c84b17",
      "metadata": {
        "id": "60d85acd-aa22-4665-9cf6-347af4c84b17"
      },
      "source": [
        "###Quitar espacios en blanco"
      ]
    },
    {
      "cell_type": "markdown",
      "id": "4a7f5a74-cb0b-4910-b408-0f012dc8be73",
      "metadata": {
        "id": "4a7f5a74-cb0b-4910-b408-0f012dc8be73"
      },
      "source": [
        "Observa el siguiente enunciado (cadena)\n",
        "\n",
        "enunciado = '\\t \\n me gusta escuchar música alegre \\t\\t \\n'"
      ]
    },
    {
      "cell_type": "code",
      "execution_count": null,
      "id": "9b1005fb-d548-472a-bacc-91c4e332c429",
      "metadata": {
        "id": "9b1005fb-d548-472a-bacc-91c4e332c429"
      },
      "outputs": [],
      "source": [
        "enunciado = '\\t \\n me gusta escuchar música alegre \\t\\t \\n'\n",
        "enunciado_sin_espacios = enunciado.strip()\n",
        "print(enunciado_sin_espacios)\n"
      ]
    },
    {
      "cell_type": "markdown",
      "id": "c8cfd7bd-2c06-4f72-9ee0-1cf687d06f99",
      "metadata": {
        "id": "c8cfd7bd-2c06-4f72-9ee0-1cf687d06f99"
      },
      "source": [
        "Requieres eliminar todos los espacios en blanco, el método strip realiza esta tarea"
      ]
    },
    {
      "cell_type": "code",
      "execution_count": null,
      "id": "3d983771-9fc9-45dd-8077-ff674937d7cf",
      "metadata": {
        "id": "3d983771-9fc9-45dd-8077-ff674937d7cf"
      },
      "outputs": [],
      "source": [
        "enunciado = '\\t \\n me gusta escuchar música alegre \\t\\t \\n'\n",
        "enunciado_sin_espacios = enunciado.replace(\" \", \"\").strip()\n",
        "print(enunciado_sin_espacios)\n"
      ]
    },
    {
      "cell_type": "markdown",
      "id": "68f98056-6c4f-4a0e-9724-e3b3b65cde68",
      "metadata": {
        "id": "68f98056-6c4f-4a0e-9724-e3b3b65cde68"
      },
      "source": [
        "Para eliminar los espacios en blanco a la izquierda (inicio) de la cadena"
      ]
    },
    {
      "cell_type": "code",
      "execution_count": null,
      "id": "22be046c-91d6-4f6b-bf52-010252631a86",
      "metadata": {
        "id": "22be046c-91d6-4f6b-bf52-010252631a86"
      },
      "outputs": [],
      "source": [
        "enunciado = '\\t \\n me gusta escuchar música alegre \\t\\t \\n'\n",
        "enunciado_sin_espacios_izquierda = enunciado.lstrip()\n",
        "print(enunciado_sin_espacios_izquierda)\n"
      ]
    },
    {
      "cell_type": "markdown",
      "id": "d4532456-2734-4806-b25a-5b2f0dd3ccb5",
      "metadata": {
        "id": "d4532456-2734-4806-b25a-5b2f0dd3ccb5"
      },
      "source": [
        "O los espacios de la derecha (final) de la cadena."
      ]
    },
    {
      "cell_type": "code",
      "execution_count": null,
      "id": "3d32627f-f6a8-481d-ae69-7ada732e4261",
      "metadata": {
        "id": "3d32627f-f6a8-481d-ae69-7ada732e4261"
      },
      "outputs": [],
      "source": [
        "enunciado = '\\t \\n me gusta escuchar música alegre \\t\\t \\n'\n",
        "enunciado_sin_espacios_derecha = enunciado.rstrip()\n",
        "print(enunciado_sin_espacios_derecha)\n"
      ]
    },
    {
      "cell_type": "markdown",
      "id": "f272c64d-68b0-4d29-97e1-e990f788e9c2",
      "metadata": {
        "id": "f272c64d-68b0-4d29-97e1-e990f788e9c2"
      },
      "source": [
        "#### Por tu cuenta\n",
        "\n",
        "Usa los métodos en esta sección para limpiar la siguiente oración\n",
        "\n",
        "name = \"                          Clark Kent                                          \""
      ]
    },
    {
      "cell_type": "code",
      "source": [
        "name = \" Clark Kent \"\n",
        "\n",
        "name_limpio = name.strip()\n",
        "\n",
        "print(f\"'{name_limpio}'\")"
      ],
      "metadata": {
        "id": "74psaDTXrkyL"
      },
      "id": "74psaDTXrkyL",
      "execution_count": null,
      "outputs": []
    },
    {
      "cell_type": "markdown",
      "id": "5c1d2655-f828-4305-9920-bcefa7e95963",
      "metadata": {
        "id": "5c1d2655-f828-4305-9920-bcefa7e95963"
      },
      "source": [
        "### Mayusculas y Minusculas"
      ]
    },
    {
      "cell_type": "markdown",
      "id": "32fbe5c8-a313-4485-a93d-825f28b7991f",
      "metadata": {
        "id": "32fbe5c8-a313-4485-a93d-825f28b7991f"
      },
      "source": [
        "Usa el método capitalize para convertir esta oración a mayusculas\n",
        "\n",
        "me gusta eschuchar música alegre"
      ]
    },
    {
      "cell_type": "code",
      "execution_count": null,
      "id": "bca4b7f1-fd58-4240-a73f-faba7817e418",
      "metadata": {
        "id": "bca4b7f1-fd58-4240-a73f-faba7817e418"
      },
      "outputs": [],
      "source": [
        "oracion = \"me gusta escuchar música alegre\"\n",
        "oracion_en_mayusculas = oracion.capitalize()\n",
        "print(oracion_en_mayusculas)\n"
      ]
    },
    {
      "cell_type": "code",
      "source": [
        "palabra = \"python\"\n",
        "palabra_capitalizada = palabra.capitalize()\n",
        "print(palabra_capitalizada)\n"
      ],
      "metadata": {
        "id": "5svGLm4dryWr"
      },
      "id": "5svGLm4dryWr",
      "execution_count": null,
      "outputs": []
    },
    {
      "cell_type": "code",
      "source": [
        "frase = \"hOLa, cÓmO EsTás?\"\n",
        "frase_capitalizada = frase.capitalize()\n",
        "print(frase_capitalizada)\n"
      ],
      "metadata": {
        "id": "Wt0od54Yry_z"
      },
      "id": "Wt0od54Yry_z",
      "execution_count": null,
      "outputs": []
    },
    {
      "cell_type": "code",
      "source": [
        "cadena_vacia = \"\"\n",
        "cadena_capitalizada = cadena_vacia.capitalize()\n",
        "print(cadena_capitalizada)\n"
      ],
      "metadata": {
        "id": "hiFoi8_ar7Oa"
      },
      "id": "hiFoi8_ar7Oa",
      "execution_count": null,
      "outputs": []
    },
    {
      "cell_type": "markdown",
      "id": "cd49c72e-5a9b-4a1c-80aa-5a474f0d1dbd",
      "metadata": {
        "id": "cd49c72e-5a9b-4a1c-80aa-5a474f0d1dbd"
      },
      "source": [
        "Usa el metodo Title para ponerle mayuscula a cada letra de la oración\n",
        "\n",
        "me gusta eschuchar música alegre. bailemos"
      ]
    },
    {
      "cell_type": "code",
      "execution_count": null,
      "id": "3b750c53-4452-4d0f-9299-c5b37b7439c6",
      "metadata": {
        "id": "3b750c53-4452-4d0f-9299-c5b37b7439c6"
      },
      "outputs": [],
      "source": [
        "oracion = \"me gusta escuchar música alegre. bailemos\"\n",
        "oracion_en_mayusculas = oracion.title()\n",
        "print(oracion_en_mayusculas)\n"
      ]
    },
    {
      "cell_type": "markdown",
      "id": "4b9aac30-53cf-45b2-bf63-7a1a1e6ca895",
      "metadata": {
        "id": "4b9aac30-53cf-45b2-bf63-7a1a1e6ca895"
      },
      "source": [
        "###Operadores de Comparación"
      ]
    },
    {
      "cell_type": "markdown",
      "id": "c89b9d9d-5e14-4f91-8108-18cfa8b3a1e0",
      "metadata": {
        "id": "c89b9d9d-5e14-4f91-8108-18cfa8b3a1e0"
      },
      "source": [
        "Además de dar formato a las cadenas, Python permite compararlas. Esto se realiza con los valores numéricos que tiene cada carácter. Aquí algunos ejemplos."
      ]
    },
    {
      "cell_type": "code",
      "execution_count": null,
      "id": "09f11719-8d6d-4dfd-879a-f55f4960a8b3",
      "metadata": {
        "id": "09f11719-8d6d-4dfd-879a-f55f4960a8b3"
      },
      "outputs": [],
      "source": [
        "#Comparación de cadenas utilizando el operador ==\n",
        "cadena1 = \"abc\"\n",
        "cadena2 = \"def\"\n",
        "\n",
        "if cadena1 == cadena2:\n",
        "    print(\"Las cadenas son iguales\")\n",
        "else:\n",
        "    print(\"Las cadenas son diferentes\")\n"
      ]
    },
    {
      "cell_type": "code",
      "execution_count": null,
      "id": "169f7f2e-3438-4bc8-b07f-f05ed8ddd203",
      "metadata": {
        "id": "169f7f2e-3438-4bc8-b07f-f05ed8ddd203"
      },
      "outputs": [],
      "source": [
        "#Comparación de cadenas utilizando el operador <\n",
        "cadena1 = \"abc\"\n",
        "cadena2 = \"def\"\n",
        "\n",
        "if cadena1 < cadena2:\n",
        "    print(\"La cadena1 viene antes que la cadena2\")\n",
        "else:\n",
        "    print(\"La cadena2 viene antes que la cadena1\")\n"
      ]
    },
    {
      "cell_type": "code",
      "source": [
        "#Comparación de cadenas utilizando el operador >\n",
        "cadena1 = \"abc\"\n",
        "cadena2 = \"def\"\n",
        "\n",
        "if cadena1 > cadena2:\n",
        "    print(\"La cadena1 viene después que la cadena2\")\n",
        "else:\n",
        "    print(\"La cadena2 viene después que la cadena1\")\n"
      ],
      "metadata": {
        "id": "IRC7bhPssZwA"
      },
      "id": "IRC7bhPssZwA",
      "execution_count": null,
      "outputs": []
    },
    {
      "cell_type": "markdown",
      "id": "7ef0310a-acbe-4491-9df7-5fadbe1d8bc6",
      "metadata": {
        "id": "7ef0310a-acbe-4491-9df7-5fadbe1d8bc6"
      },
      "source": [
        "###Buscar Cadenas"
      ]
    },
    {
      "cell_type": "markdown",
      "id": "8006b899-deda-4471-b6ed-a08e5237489f",
      "metadata": {
        "id": "8006b899-deda-4471-b6ed-a08e5237489f"
      },
      "source": [
        "Para contar el número de veces que aparece un trozo de cadena (substring) en una cadena más\n",
        "grande, Python cuenta con el método count. Por ejemplo\n",
        "\n",
        "Cuenta quizas en \"quizás si quizás no quizás es una posibilidad\""
      ]
    },
    {
      "cell_type": "code",
      "execution_count": null,
      "id": "5f0028df-9be6-4a7e-8d69-f278baf7238d",
      "metadata": {
        "id": "5f0028df-9be6-4a7e-8d69-f278baf7238d"
      },
      "outputs": [],
      "source": [
        "cadena = \"quizás si quizás no quizás es una posibilidad\"\n",
        "subcadena = \"quizás\"\n",
        "\n",
        "contador = cadena.count(subcadena)\n",
        "print(f\"La subcadena '{subcadena}' aparece {contador} veces en la cadena.\")\n"
      ]
    },
    {
      "cell_type": "markdown",
      "id": "0bdb2c9f-16d7-42dc-b461-eca10e3f977d",
      "metadata": {
        "id": "0bdb2c9f-16d7-42dc-b461-eca10e3f977d"
      },
      "source": [
        "Si añades un segundo argumento, éste indica el índice de inicio de la búsqueda (recuerda que los\n",
        "índices inician en 0)."
      ]
    },
    {
      "cell_type": "code",
      "execution_count": null,
      "id": "cc71a3ce-13e3-47cc-afc2-6699198aab54",
      "metadata": {
        "id": "cc71a3ce-13e3-47cc-afc2-6699198aab54"
      },
      "outputs": [],
      "source": [
        "cadena = \"quizás si quizás no quizás es una posibilidad\"\n",
        "subcadena = \"quizás\"\n",
        "\n",
        "contador = cadena.count(subcadena, 10)  # Comienza la búsqueda desde el índice 10\n",
        "print(f\"La subcadena '{subcadena}' aparece {contador} veces en la cadena a partir del índice 10.\")\n"
      ]
    },
    {
      "cell_type": "markdown",
      "id": "2733cb44-23b8-47f3-908a-ed5765e34809",
      "metadata": {
        "id": "2733cb44-23b8-47f3-908a-ed5765e34809"
      },
      "source": [
        "El método index busca una subcadena dentro de una cadena, e indica el primer índice en donde\n",
        "aparece."
      ]
    },
    {
      "cell_type": "code",
      "execution_count": null,
      "id": "d7e284a9-51cf-47b7-89a8-b108b1a8306e",
      "metadata": {
        "id": "d7e284a9-51cf-47b7-89a8-b108b1a8306e"
      },
      "outputs": [],
      "source": [
        "cadena = \"esto es una cadena de ejemplo\"\n",
        "subcadena = \"cadena\"\n",
        "\n",
        "indice = cadena.index(subcadena)\n",
        "print(f\"La subcadena '{subcadena}' aparece por primera vez en el índice {indice}.\")\n"
      ]
    },
    {
      "cell_type": "markdown",
      "id": "0a3e1ef2-49f8-41f6-b18e-31d224efd220",
      "metadata": {
        "id": "0a3e1ef2-49f8-41f6-b18e-31d224efd220"
      },
      "source": [
        "El método rindex realiza la misma tarea que index, pero inicia la búsqueda desde la parte final\n",
        "de la cadena."
      ]
    },
    {
      "cell_type": "code",
      "execution_count": null,
      "id": "53e83d79-553c-46f7-85a7-05ec85632cb1",
      "metadata": {
        "id": "53e83d79-553c-46f7-85a7-05ec85632cb1"
      },
      "outputs": [],
      "source": [
        "cadena = \"esto es una cadena de ejemplo con una palabra repetida en el final palabra\"\n",
        "subcadena = \"palabra\"\n",
        "\n",
        "indice = cadena.rindex(subcadena)\n",
        "print(f\"La subcadena '{subcadena}' aparece por última vez en el índice {indice}.\")\n"
      ]
    },
    {
      "cell_type": "markdown",
      "id": "6b991c26-511b-463a-85e3-4af3a8f9b623",
      "metadata": {
        "id": "6b991c26-511b-463a-85e3-4af3a8f9b623"
      },
      "source": [
        "Si solo necesitas conocer si en la cadena se encuentra una subcadena, es posible utilizar los operadores in o not in"
      ]
    },
    {
      "cell_type": "code",
      "execution_count": null,
      "id": "b7ba0e3f-f173-4a49-b65c-ae72bcc4cd98",
      "metadata": {
        "id": "b7ba0e3f-f173-4a49-b65c-ae72bcc4cd98"
      },
      "outputs": [],
      "source": [
        "cadena = \"esto es una cadena de ejemplo\"\n",
        "subcadena1 = \"cadena\"\n",
        "subcadena2 = \"python\"\n",
        "\n",
        "if subcadena1 in cadena:\n",
        "    print(f\"La subcadena '{subcadena1}' está presente en la cadena.\")\n",
        "else:\n",
        "    print(f\"La subcadena '{subcadena1}' no está presente en la cadena.\")\n",
        "\n",
        "if subcadena2 not in cadena:\n",
        "    print(f\"La subcadena '{subcadena2}' no está presente en la cadena.\")\n",
        "else:\n",
        "    print(f\"La subcadena '{subcadena2}' está presente en la cadena.\")\n"
      ]
    },
    {
      "cell_type": "markdown",
      "id": "e62993de-d384-4393-8774-9dd72c3355ae",
      "metadata": {
        "id": "e62993de-d384-4393-8774-9dd72c3355ae"
      },
      "source": [
        "Los métodos startswith y endswith regresan True si la cadena inicia o termina"
      ]
    },
    {
      "cell_type": "code",
      "execution_count": null,
      "id": "628afeaa-177e-421d-9df5-029393f733aa",
      "metadata": {
        "id": "628afeaa-177e-421d-9df5-029393f733aa"
      },
      "outputs": [],
      "source": [
        "cadena = \"Python es un lenguaje de programación poderoso\"\n",
        "subcadena1 = \"lenguaje\"\n",
        "subcadena2 = \"JavaScript\"\n",
        "\n",
        "if subcadena1 in cadena:\n",
        "    print(f\"La subcadena '{subcadena1}' está presente en la cadena.\")\n",
        "else:\n",
        "    print(f\"La subcadena '{subcadena1}' no está presente en la cadena.\")\n",
        "\n",
        "if subcadena2 not in cadena:\n",
        "    print(f\"La subcadena '{subcadena2}' no está presente en la cadena.\")\n",
        "else:\n",
        "    print(f\"La subcadena '{subcadena2}' está presente en la cadena.\")\n"
      ]
    },
    {
      "cell_type": "markdown",
      "id": "a5451a68-e2f9-4639-801a-00e7268bfb5e",
      "metadata": {
        "id": "a5451a68-e2f9-4639-801a-00e7268bfb5e"
      },
      "source": [
        "#### Por tu cuenta\n",
        "\n",
        "Crea un bucle for que ubica y muestra cada palabra que comienza con \"d\" en \"Por desenredar el enredo aque ayer enrede, hoy enredo el desenredo que desenredé ayer\""
      ]
    },
    {
      "cell_type": "code",
      "execution_count": null,
      "id": "e17272e7-4ab3-4e27-8e51-444ef071375e",
      "metadata": {
        "id": "e17272e7-4ab3-4e27-8e51-444ef071375e"
      },
      "outputs": [],
      "source": [
        "texto = \"Por desenredar el enredo aque ayer enrede, hoy enredo el desenredo que desenredé ayer\"\n",
        "\n",
        "for palabra in texto.split():\n",
        "    if palabra.lower().startswith('d'):\n",
        "        print(palabra)"
      ]
    },
    {
      "cell_type": "markdown",
      "id": "291453ec-2fd7-4084-9dd3-b193700eeb3b",
      "metadata": {
        "id": "291453ec-2fd7-4084-9dd3-b193700eeb3b"
      },
      "source": [
        "###- Reemplazar"
      ]
    },
    {
      "cell_type": "markdown",
      "id": "7f3975e9-9e50-49e5-a181-407195152e8c",
      "metadata": {
        "id": "7f3975e9-9e50-49e5-a181-407195152e8c"
      },
      "source": [
        "Para reemplazar cadenas se usa el metoodo replace"
      ]
    },
    {
      "cell_type": "code",
      "execution_count": null,
      "id": "7262a9e8-984f-4242-a72d-90d436289f0c",
      "metadata": {
        "id": "7262a9e8-984f-4242-a72d-90d436289f0c"
      },
      "outputs": [],
      "source": [
        "cadena = \"Python es un lenguaje de programación poderoso\"\n",
        "subcadena_original = \"Python\"\n",
        "nueva_subcadena = \"JavaScript\"\n",
        "\n",
        "nueva_cadena = cadena.replace(subcadena_original, nueva_subcadena)\n",
        "print(\"Cadena original:\", cadena)\n",
        "print(\"Cadena después del reemplazo:\", nueva_cadena)\n"
      ]
    },
    {
      "cell_type": "markdown",
      "id": "e3a52f2a-5631-41b6-b8e4-c2184ea036be",
      "metadata": {
        "id": "e3a52f2a-5631-41b6-b8e4-c2184ea036be"
      },
      "source": [
        "### Separar y Unir Cadenas"
      ]
    },
    {
      "cell_type": "markdown",
      "id": "51eb190e-54d9-4366-9f1d-323d9b7b3d1d",
      "metadata": {
        "id": "51eb190e-54d9-4366-9f1d-323d9b7b3d1d"
      },
      "source": [
        "Para tokenizar una cadena puedes utilizar un delimitador personalizado como una coma o un espacio en blanco.\n",
        "\n",
        "letras='A,b,e,c,e,d,a,r,i,o'"
      ]
    },
    {
      "cell_type": "code",
      "execution_count": null,
      "id": "f7cb8f28-1e3c-45cc-8239-81c243c864f3",
      "metadata": {
        "id": "f7cb8f28-1e3c-45cc-8239-81c243c864f3"
      },
      "outputs": [],
      "source": [
        "letras = 'A,b,e,c,e,d,a,r,i,o'\n",
        "tokens = letras.split(',')\n",
        "print(tokens)\n"
      ]
    },
    {
      "cell_type": "code",
      "source": [
        "letras = 'A b e c e d a r i o'\n",
        "tokens = letras.split(' ')\n",
        "print(tokens)\n"
      ],
      "metadata": {
        "id": "3FXLX3BcNltY"
      },
      "id": "3FXLX3BcNltY",
      "execution_count": null,
      "outputs": []
    },
    {
      "cell_type": "markdown",
      "id": "a1ffcfc2-51b7-4b3c-ab27-0ae658a48d43",
      "metadata": {
        "id": "a1ffcfc2-51b7-4b3c-ab27-0ae658a48d43"
      },
      "source": [
        "Si escribes un entero en la segunda parte del argumento, este, especifica el número máximo de\n",
        "divisiones de la cadena"
      ]
    },
    {
      "cell_type": "code",
      "execution_count": null,
      "id": "aeda73c8-fc55-490b-8e3d-a89398ddf17b",
      "metadata": {
        "id": "aeda73c8-fc55-490b-8e3d-a89398ddf17b"
      },
      "outputs": [],
      "source": [
        "letras = 'A,b,e,c,e,d,a,r,i,o'\n",
        "tokens = letras.split(',', 3)  # Dividir la cadena en un máximo de 3 partes\n",
        "print(tokens)\n"
      ]
    },
    {
      "cell_type": "markdown",
      "id": "3abe1231-cb06-4ff3-b979-2a85e83f7fcb",
      "metadata": {
        "id": "3abe1231-cb06-4ff3-b979-2a85e83f7fcb"
      },
      "source": [
        "El siguiente snippet une los elementos de una comprensión de lista."
      ]
    },
    {
      "cell_type": "markdown",
      "source": [
        "En este ejemplo, la comprensión de lista numeros genera una lista de números del 1 al 5, pero como cadenas. Luego, utilizamos el método join() para unir estos elementos con un guion como separador, creando así una sola cadena que contiene los números unidos por guiones."
      ],
      "metadata": {
        "id": "reF0rWQ4Nyw2"
      },
      "id": "reF0rWQ4Nyw2"
    },
    {
      "cell_type": "code",
      "execution_count": null,
      "id": "23332d24-a241-4119-9941-f39512852119",
      "metadata": {
        "id": "23332d24-a241-4119-9941-f39512852119"
      },
      "outputs": [],
      "source": [
        "# Comprensión de lista para obtener una lista de números como cadenas\n",
        "numeros = [str(x) for x in range(1, 6)]\n",
        "\n",
        "# Unir los elementos de la lista con un guion como separador\n",
        "cadena_unida = '-'.join(numeros)\n",
        "print(cadena_unida)\n"
      ]
    },
    {
      "cell_type": "markdown",
      "id": "953fc61f-beef-4236-b9c3-d532838f2b77",
      "metadata": {
        "id": "953fc61f-beef-4236-b9c3-d532838f2b77"
      },
      "source": [
        "###Otros métodos de búsqueda: accesar matches"
      ]
    },
    {
      "cell_type": "markdown",
      "id": "19c77f5b-e1b4-43d9-afe9-579a39cfc4b6",
      "metadata": {
        "id": "19c77f5b-e1b4-43d9-afe9-579a39cfc4b6"
      },
      "source": [
        "Python tiene otras funciones de búsqueda. La función search busca en una cadena la primera\n"
      ]
    },
    {
      "cell_type": "code",
      "execution_count": null,
      "id": "661e6eeb-c0a1-46e3-a424-4e3636e64b4e",
      "metadata": {
        "id": "661e6eeb-c0a1-46e3-a424-4e3636e64b4e"
      },
      "outputs": [],
      "source": [
        "import re\n",
        "\n",
        "# Definimos la cadena en la que queremos buscar\n",
        "cadena = \"La casa está en la calle principal.\"\n",
        "\n",
        "# Definimos el patrón que queremos buscar\n",
        "patron = \"casa\"\n",
        "\n",
        "# Utilizamos la función search() para buscar la primera coincidencia del patrón en la cadena\n",
        "resultado = re.search(patron, cadena)\n",
        "\n",
        "# Verificamos si se encontró una coincidencia\n",
        "if resultado:\n",
        "    print(\"Se encontró una coincidencia en la posición:\", resultado.start())\n",
        "else:\n",
        "    print(\"No se encontró ninguna coincidencia.\")\n"
      ]
    },
    {
      "cell_type": "markdown",
      "id": "a30e12bd-e68d-419a-9eb7-d3982209a41c",
      "metadata": {
        "id": "a30e12bd-e68d-419a-9eb7-d3982209a41c"
      },
      "source": [
        "En este ejemplo, la función busca la subcadena 'texto' en la cadena 'Esto es solo texto\n",
        "de prueba'."
      ]
    },
    {
      "cell_type": "code",
      "execution_count": null,
      "id": "943387d8-5728-4287-bd37-c9c7a6faa762",
      "metadata": {
        "id": "943387d8-5728-4287-bd37-c9c7a6faa762"
      },
      "outputs": [],
      "source": [
        "cadena = 'Esto es solo texto de prueba'\n",
        "subcadena = 'texto'\n",
        "\n",
        "# Usamos la función find() para buscar la subcadena en la cadena\n",
        "posicion = cadena.find(subcadena)\n",
        "\n",
        "if posicion != -1:\n",
        "    print(f\"La subcadena '{subcadena}' se encuentra en la posición {posicion} de la cadena.\")\n",
        "else:\n",
        "    print(f\"La subcadena '{subcadena}' no se encuentra en la cadena.\")\n"
      ]
    },
    {
      "cell_type": "markdown",
      "id": "5aa4761d-aa2c-47d1-87ec-b8d9df62065c",
      "metadata": {
        "id": "5aa4761d-aa2c-47d1-87ec-b8d9df62065c"
      },
      "source": [
        "El meta caracter ^ al principio de una cadena regular, es un ancla que indica a Python buscar la\n",
        "expresión que coincide solo con el inicio de la cadena."
      ]
    },
    {
      "cell_type": "code",
      "execution_count": 3,
      "id": "f4951654-4b48-4ac8-a0bf-d462c873bdc3",
      "metadata": {
        "id": "f4951654-4b48-4ac8-a0bf-d462c873bdc3",
        "colab": {
          "base_uri": "https://localhost:8080/"
        },
        "outputId": "a8fb1fc7-b6ba-4585-a6f0-3a6e2533c7fe"
      },
      "outputs": [
        {
          "output_type": "stream",
          "name": "stdout",
          "text": [
            "Palabras que comienzan con 'man': ['manzana', 'mandarina']\n"
          ]
        }
      ],
      "source": [
        "import re\n",
        "\n",
        "# Definimos una lista de palabras\n",
        "palabras = [\"manzana\", \"banana\", \"mandarina\", \"anana\", \"naranja\"]\n",
        "\n",
        "# Definimos un patrón para buscar palabras que comienzan con \"man\"\n",
        "patron = \"^man\"\n",
        "\n",
        "# Utilizamos la función findall() para encontrar todas las coincidencias que cumplen el patrón\n",
        "coincidencias = [palabra for palabra in palabras if re.findall(patron, palabra)]\n",
        "\n",
        "# Imprimimos las coincidencias encontradas\n",
        "print(\"Palabras que comienzan con 'man':\", coincidencias)\n"
      ]
    },
    {
      "cell_type": "markdown",
      "id": "93cb864c-54a2-40e0-87b6-37f087eaab8f",
      "metadata": {
        "id": "93cb864c-54a2-40e0-87b6-37f087eaab8f"
      },
      "source": [
        "#### Por tu cuenta\n",
        "\n",
        "Suponte que tienes la cadena\n",
        "\n",
        "\"14 + 8\"\n",
        "\n",
        "Usa una expresión regular para romper la cadena en 3 grupos representando los 2 operandos y el operador, luego muestra los grupos"
      ]
    },
    {
      "cell_type": "code",
      "execution_count": null,
      "id": "dba642aa-1a8e-42dc-8e9b-e676d750e912",
      "metadata": {
        "id": "dba642aa-1a8e-42dc-8e9b-e676d750e912"
      },
      "outputs": [],
      "source": [
        "import re\n",
        "\n",
        "cadena = \"14 + 8\"\n",
        "\n",
        "patron = r\"(\\d+)\\s*([+\\-*/])\\s*(\\d+)\"\n",
        "\n",
        "coincidencias = re.match(patron, cadena)\n",
        "\n",
        "if coincidencias:\n",
        "    operando1, operador, operando2 = coincidencias.groups()\n",
        "    print(f\"Primer operando: {operando1}\")\n",
        "    print(f\"Operador: {operador}\")\n",
        "    print(f\"Segundo operando: {operando2}\")\n",
        "else:\n",
        "    print(\"No se encontró una coincidencia.\")"
      ]
    }
  ],
  "metadata": {
    "kernelspec": {
      "display_name": "Python 3",
      "language": "python",
      "name": "python3"
    },
    "language_info": {
      "codemirror_mode": {
        "name": "ipython",
        "version": 3
      },
      "file_extension": ".py",
      "mimetype": "text/x-python",
      "name": "python",
      "nbconvert_exporter": "python",
      "pygments_lexer": "ipython3",
      "version": "3.8.8"
    },
    "colab": {
      "provenance": [],
      "name": "Johan_Vega_taller_s2_a_explorador_ia_G_51.ipynb"
    }
  },
  "nbformat": 4,
  "nbformat_minor": 5
}