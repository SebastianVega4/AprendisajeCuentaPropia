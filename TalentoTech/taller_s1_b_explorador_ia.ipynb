{
  "metadata": {
    "kernelspec": {
      "display_name": "Python 3",
      "language": "python",
      "name": "python3"
    },
    "language_info": {
      "name": "python",
      "version": "3.10.12",
      "mimetype": "text/x-python",
      "codemirror_mode": {
        "name": "ipython",
        "version": 3
      },
      "pygments_lexer": "ipython3",
      "nbconvert_exporter": "python",
      "file_extension": ".py"
    },
    "kaggle": {
      "accelerator": "none",
      "dataSources": [
        {
          "sourceId": 3136,
          "databundleVersionId": 26502,
          "sourceType": "competition"
        }
      ],
      "isInternetEnabled": false,
      "language": "python",
      "sourceType": "notebook",
      "isGpuEnabled": false
    },
    "colab": {
      "provenance": []
    }
  },
  "nbformat_minor": 0,
  "nbformat": 4,
  "cells": [
    {
      "cell_type": "markdown",
      "source": [
        "**Practica Semana 1**\n",
        "\n",
        "---\n"
      ],
      "metadata": {
        "id": "wD_Nu1KXEC0b"
      }
    },
    {
      "cell_type": "markdown",
      "source": [
        "Este ejercicio te permitirá empezar a ejecutar tu propio código."
      ],
      "metadata": {
        "id": "w4LitZ1SEC0d"
      }
    },
    {
      "cell_type": "code",
      "source": [
        "#Ejercicio\n",
        "\n",
        "##Calculo de la superficie de un cuadrado conociendo uno de sus lados\n",
        "\n",
        "##lado = input(\"Ingrese la medida del lado del cuadrado: \")\n",
        "##lado = int(lado)\n",
        "lado = int(input(\"Ingrese la medida del lado del cuadrado: \"))\n",
        "superficie = lado * lado\n",
        "print(\"La superficie del cuadrado es \")\n",
        "print (superficie)"
      ],
      "metadata": {
        "id": "DkEmre0PF5hH"
      },
      "execution_count": null,
      "outputs": []
    },
    {
      "cell_type": "code",
      "source": [
        "#Calculo de la superficie de un cuadrado conociendo uno de sus lados\n",
        "##lado = input(\"Ingrese la medida del lado del cuadrado: \")\n",
        "##lado = int(lado)\n",
        "lado = int(input(\"Ingrese la medida del lado del cuadrado: \"))\n",
        "superficie = lado * lado\n",
        "print(\"La superficie del cuadrado es \")\n",
        "print (superficie)"
      ],
      "metadata": {
        "id": "NavWhmOkGxSp"
      },
      "execution_count": null,
      "outputs": []
    },
    {
      "cell_type": "code",
      "source": [
        "# Ejercicio: Asigna dos números a variables y realiza las operaciones básicas (suma, resta, multiplicación y división).\n",
        "num1 = 10\n",
        "num2 = 5\n",
        "suma = num1 + num2\n",
        "resta = num1 - num2\n",
        "multiplicacion = num1 * num2\n",
        "division = num1 / num2\n",
        "\n",
        "print(f\"Suma: {suma}, Resta: {resta}, Multiplicación: {multiplicacion}, División: {division}\")\n"
      ],
      "metadata": {
        "id": "fgT6z12iGynx"
      },
      "execution_count": null,
      "outputs": []
    },
    {
      "cell_type": "code",
      "source": [
        "# Ejercicio: Asigna un número a una variable y utiliza operadores de asignación para incrementar y decrementar su valor.\n",
        "num = 8\n",
        "num += 3  # Incrementa en 3\n",
        "num -= 2  # Decrementa en 2\n",
        "\n",
        "print(f\"Nuevo valor de num: {num}\")\n"
      ],
      "metadata": {
        "id": "8GLu5-SfIUf0"
      },
      "execution_count": null,
      "outputs": []
    },
    {
      "cell_type": "code",
      "source": [
        "# Ejercicio: Crea dos variables de tipo string y realiza la concatenación.\n",
        "cadena1 = \"Hola\"\n",
        "cadena2 = \"Mundo\"\n",
        "resultado = cadena1 + \" \" + cadena2\n",
        "\n",
        "print(f\"Concatenación: {resultado}\")\n"
      ],
      "metadata": {
        "id": "pJwFaxeNT9sV"
      },
      "execution_count": null,
      "outputs": []
    },
    {
      "cell_type": "code",
      "source": [
        "# Ejercicio: Asigna dos valores booleanos y realiza operaciones lógicas (AND, OR, NOT).\n",
        "bool1 = True\n",
        "bool2 = False\n",
        "resultado_and = bool1 and bool2\n",
        "resultado_or = bool1 or bool2\n",
        "resultado_not = not bool1\n",
        "\n",
        "print(f\"AND: {resultado_and}, OR: {resultado_or}, NOT: {resultado_not}\")\n"
      ],
      "metadata": {
        "id": "JWrY7XEmUFxv"
      },
      "execution_count": null,
      "outputs": []
    },
    {
      "cell_type": "code",
      "source": [
        "# Ejercicio: Asigna dos números decimales y realiza operaciones de redondeo y potencia.\n",
        "decimal1 = 3.14\n",
        "decimal2 = 2.5\n",
        "redondeo = round(decimal1)\n",
        "potencia = decimal1 ** decimal2\n",
        "\n",
        "print(f\"Redondeo: {redondeo}, Potencia: {potencia}\")\n"
      ],
      "metadata": {
        "id": "-MidLpvjUHLC"
      },
      "execution_count": null,
      "outputs": []
    },
    {
      "cell_type": "code",
      "source": [
        "# Ejercicio: Crea dos listas y realiza operaciones de concatenación y repetición.\n",
        "lista1 = [1, 2, 3]\n",
        "lista2 = [4, 5, 6]\n",
        "concatenacion = lista1 + lista2\n",
        "repeticion = lista1 * 2\n",
        "\n",
        "print(f\"Concatenación: {concatenacion}, Repetición: {repeticion}\")\n"
      ],
      "metadata": {
        "id": "Dth41woMU64n"
      },
      "execution_count": null,
      "outputs": []
    },
    {
      "cell_type": "code",
      "source": [
        "# Ejercicio: Asigna un número entero e implementa operadores de comparación (<, >, ==).\n",
        "entero = 15\n",
        "es_mayor = entero > 10\n",
        "es_menor = entero < 20\n",
        "es_igual = entero == 15\n",
        "\n",
        "print(f\"Mayor: {es_mayor}, Menor: {es_menor}, Igual: {es_igual}\")\n"
      ],
      "metadata": {
        "id": "mie3eAh6VBA2"
      },
      "execution_count": null,
      "outputs": []
    },
    {
      "cell_type": "code",
      "source": [
        "# Ejercicio: Asigna dos números enteros y utiliza operadores módulo y de división entera.\n",
        "num_entero1 = 25\n",
        "num_entero2 = 7\n",
        "modulo = num_entero1 % num_entero2\n",
        "division_entera = num_entero1 // num_entero2\n",
        "\n",
        "print(f\"Módulo: {modulo}, División Entera: {division_entera}\")\n"
      ],
      "metadata": {
        "id": "ZHWfW5zLVEFK"
      },
      "execution_count": null,
      "outputs": []
    },
    {
      "cell_type": "code",
      "source": [
        "# Ejercicio: Crea dos tuplas y realiza operaciones de concatenación y repetición.\n",
        "tupla1 = (1, 2, 3)\n",
        "tupla2 = (4, 5, 6)\n",
        "concatenacion_tuplas = tupla1 + tupla2\n",
        "repeticion_tupla = tupla1 * 2\n",
        "\n",
        "print(f\"Concatenación de Tuplas: {concatenacion_tuplas}, Repetición de Tupla: {repeticion_tupla}\")\n"
      ],
      "metadata": {
        "id": "eKacgJ4pVG9R"
      },
      "execution_count": null,
      "outputs": []
    },
    {
      "cell_type": "code",
      "source": [
        "# Ejercicio: Realiza operaciones aritméticas con variables de diferentes tipos.\n",
        "entero_mixto = 10\n",
        "decimal_mixto = 3.5\n",
        "resultado_mixto = entero_mixto * decimal_mixto\n",
        "\n",
        "print(f\"Resultado Mixto: {resultado_mixto}\")\n"
      ],
      "metadata": {
        "id": "DB42cTegUH_H"
      },
      "execution_count": null,
      "outputs": []
    },
    {
      "cell_type": "markdown",
      "source": [
        "**Problemas**"
      ],
      "metadata": {
        "id": "8KeC1hDJVjMz"
      }
    },
    {
      "cell_type": "markdown",
      "source": [
        "Calcular el área de un círculo con un radio dado. Utiliza la fórmula $Area = \\pi\\times{radio}^2$"
      ],
      "metadata": {
        "id": "vDX7_py6Vl9G"
      }
    },
    {
      "cell_type": "code",
      "source": [
        "import math\n",
        "\n",
        "radio = float(input(\"Ingresa el radio del círculo: \"))\n",
        "\n",
        "area = math.pi * radio**2\n",
        "\n",
        "print(f\"El área del círculo con radio {radio} es: {area}\")"
      ],
      "metadata": {
        "id": "8KuMfIS_Y8CW"
      },
      "execution_count": null,
      "outputs": []
    },
    {
      "cell_type": "markdown",
      "source": [
        "Convertir una temperatura en grados Celsius a Fahrenheit $F=\\frac{9}{5}\\times C+32$"
      ],
      "metadata": {
        "id": "TDj1haZhXebS"
      }
    },
    {
      "cell_type": "code",
      "source": [
        "celsius = float(input(\"Ingresa la temperatura en grados Celsius: \"))\n",
        "\n",
        "fahrenheit = (9/5) * celsius + 32\n",
        "\n",
        "print(f\"La temperatura en grados Fahrenheit es: {fahrenheit}\")"
      ],
      "metadata": {
        "id": "oZC3Zk5vY-8z"
      },
      "execution_count": null,
      "outputs": []
    },
    {
      "cell_type": "markdown",
      "source": [
        "Crear una calculadora de propina. Dado el total de la cuenta y el porcentaje de propina deseado, calcular el monto de propina y el total final."
      ],
      "metadata": {
        "id": "vgG0mx4iXfH0"
      }
    },
    {
      "cell_type": "code",
      "source": [
        "total_cuenta = float(input(\"Ingresa el total de la cuenta: \"))\n",
        "porcentaje_propina = float(input(\"Ingresa el porcentaje de propina deseado: \"))\n",
        "\n",
        "monto_propina = (porcentaje_propina / 100) * total_cuenta\n",
        "\n",
        "total_final = total_cuenta + monto_propina\n",
        "\n",
        "print(f\"El monto de la propina es: ${monto_propina:.2f}\")\n",
        "print(f\"El total final con propina es: ${total_final:.2f}\")"
      ],
      "metadata": {
        "id": "zRwfboarY_kG"
      },
      "execution_count": null,
      "outputs": []
    },
    {
      "cell_type": "markdown",
      "source": [
        "Calcular el precio final de un producto después de aplicar un descuento. Se proporcionan el precio original y el porcentaje de descuento."
      ],
      "metadata": {
        "id": "r9D2hDFNXiqY"
      }
    },
    {
      "cell_type": "code",
      "source": [
        "precio_original = float(input(\"Ingresa el precio original del producto: \"))\n",
        "porcentaje_descuento = float(input(\"Ingresa el porcentaje de descuento: \"))\n",
        "\n",
        "monto_descuento = (porcentaje_descuento / 100) * precio_original\n",
        "\n",
        "precio_final = precio_original - monto_descuento\n",
        "\n",
        "print(f\"El monto del descuento es: ${monto_descuento:.2f}\")\n",
        "print(f\"El precio final después de aplicar el descuento es: ${precio"
      ],
      "metadata": {
        "id": "CBkarqF3ZAZN"
      },
      "execution_count": null,
      "outputs": []
    },
    {
      "cell_type": "markdown",
      "source": [
        "Determinar la edad de una persona dados su año de nacimiento y el año actual."
      ],
      "metadata": {
        "id": "-jj-Kvp3XmBf"
      }
    },
    {
      "cell_type": "code",
      "source": [
        "ano_nacimiento = int(input(\"Ingresa el año de nacimiento: \"))\n",
        "ano_actual = int(input(\"Ingresa el año actual: \"))\n",
        "\n",
        "edad = ano_actual - ano_nacimiento\n",
        "\n",
        "print(f\"La edad de la persona es: {edad} años\")"
      ],
      "metadata": {
        "id": "lUoGJ7iZY6b-"
      },
      "execution_count": null,
      "outputs": []
    },
    {
      "cell_type": "markdown",
      "source": [
        "Calcular la velocidad media de un objeto. Se dan la distancia recorrida y el tiempo empleado."
      ],
      "metadata": {
        "id": "Mpi7actnXpnK"
      }
    },
    {
      "cell_type": "code",
      "source": [
        "distancia = float(input(\"Ingresa la distancia recorrida (en metros): \"))\n",
        "tiempo = float(input(\"Ingresa el tiempo empleado (en segundos): \"))\n",
        "\n",
        "velocidad_media = distancia / tiempo\n",
        "\n",
        "print(f\"La velocidad media del objeto es: {velocidad_media} metros por segundo.\")"
      ],
      "metadata": {
        "id": "6S3_0SMOZBb2"
      },
      "execution_count": null,
      "outputs": []
    },
    {
      "cell_type": "markdown",
      "source": [
        "Crear una calculadora de índice de masa corporal (IMC). Se proporciona el peso en kilogramos y la altura en metros."
      ],
      "metadata": {
        "id": "Q5jLVQZ9Xw7o"
      }
    },
    {
      "cell_type": "code",
      "source": [
        "peso = float(input(\"Ingresa tu peso en kilogramos: \"))\n",
        "altura = float(input(\"Ingresa tu altura en metros: \"))\n",
        "\n",
        "imc = peso / altura**2\n",
        "\n",
        "if imc < 18.5:\n",
        "    clasificacion = \"Bajo peso\"\n",
        "elif 18.5 <= imc < 24.9:\n",
        "    clasificacion = \"Normal\"\n",
        "elif 25 <= imc < 29.9:\n",
        "    clasificacion = \"Sobrepeso\"\n",
        "else:\n",
        "    clasificacion = \"Obesidad\"\n",
        "\n",
        "print(f\"Tu IMC es: {imc:.2f}\")\n",
        "print(f\"Clasificación: {clasificacion}\")"
      ],
      "metadata": {
        "id": "hVHB61aQZCRk"
      },
      "execution_count": null,
      "outputs": []
    },
    {
      "cell_type": "markdown",
      "source": [
        "Calcular la suma de los primeros $n$ números pares. El valor de $n$ se proporciona como entrada."
      ],
      "metadata": {
        "id": "KTuFdbS8X0VU"
      }
    },
    {
      "cell_type": "code",
      "source": [
        "n = int(input(\"Ingresa el valor de n: \"))\n",
        "\n",
        "suma_pares = n * (n + 1)\n",
        "\n",
        "print(f\"La suma de los primeros {n} números pares es: {suma_pares}\")"
      ],
      "metadata": {
        "id": "yKvPb8KIZC7d"
      },
      "execution_count": null,
      "outputs": []
    },
    {
      "cell_type": "markdown",
      "source": [
        "Calcular la raíz cuadrada de un número dado. Utiliza la función sqrt del módulo math"
      ],
      "metadata": {
        "id": "2eQf6q0bYGJd"
      }
    },
    {
      "cell_type": "code",
      "source": [
        "import math\n",
        "\n",
        "numero = float(input(\"Ingresa un número para calcular su raíz cuadrada: \"))\n",
        "\n",
        "raiz_cuadrada = math.sqrt(numero)\n",
        "\n",
        "print(f\"La raíz cuadrada de {numero} es: {raiz_cuadrada:.2f}\")"
      ],
      "metadata": {
        "id": "ffyRFQjjZDep"
      },
      "execution_count": null,
      "outputs": []
    },
    {
      "cell_type": "markdown",
      "source": [
        "Calcular el monto final después de ciertos años utilizando la fórmula del interés simple: $MF=Principal=(1+tasaInteres × tiempo)$"
      ],
      "metadata": {
        "id": "pH0HpsdKYQKo"
      }
    },
    {
      "cell_type": "code",
      "source": [
        "principal = float(input(\"Ingresa el monto principal (monto inicial): \"))\n",
        "tasa_interes = float(input(\"Ingresa la tasa de interés anual (en porcentaje): \")) / 100\n",
        "tiempo = float(input(\"Ingresa el tiempo en años: \"))\n",
        "\n",
        "monto_final = principal * (1 + tasa_interes * tiempo)\n",
        "\n",
        "print(f\"El monto final después de {tiempo} años es: {monto_final:.2f}\")"
      ],
      "metadata": {
        "id": "VRRFB3kbZEIy"
      },
      "execution_count": null,
      "outputs": []
    }
  ]
}