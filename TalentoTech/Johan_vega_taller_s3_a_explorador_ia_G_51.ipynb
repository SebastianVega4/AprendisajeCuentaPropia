{
  "cells": [
    {
      "cell_type": "markdown",
      "id": "89030283-116c-4976-8e73-b89f8381e6f3",
      "metadata": {
        "id": "89030283-116c-4976-8e73-b89f8381e6f3"
      },
      "source": [
        "##Control y desarrollo de Programas"
      ]
    },
    {
      "cell_type": "markdown",
      "id": "dbbe85a8-e01d-4b2f-a971-a40e971242ad",
      "metadata": {
        "id": "dbbe85a8-e01d-4b2f-a971-a40e971242ad"
      },
      "source": [
        "**Algoritmos**\n",
        "\n",
        "Un algoritmo es un conjunto finito de instrucciones o pasos precisos y ordenados que, partiendo de uno o más datos de entrada, resuelve un problema o realiza una tarea específica en un número finito de pasos. Los algoritmos son utilizados en todas las áreas de la informática y la programación, así como en muchas otras disciplinas, para diseñar soluciones eficientes y automatizadas a una amplia variedad de problemas. Un algoritmo debe ser claro, preciso, definido, y su ejecución debe llevar a una solución en un tiempo finito."
      ]
    },
    {
      "cell_type": "markdown",
      "source": [
        "Ejemplo simple de un algoritmo para encontrar la raíz cuadrada de un número en Python utilizando el método de aproximación sucesiva conocido como el método de Newton-Raphson:"
      ],
      "metadata": {
        "id": "zO1pCaBNc_Kq"
      },
      "id": "zO1pCaBNc_Kq"
    },
    {
      "cell_type": "code",
      "execution_count": null,
      "id": "ea7857f1-87e9-4e21-9e39-83ab4bd47a0a",
      "metadata": {
        "id": "ea7857f1-87e9-4e21-9e39-83ab4bd47a0a"
      },
      "outputs": [],
      "source": [
        "def raiz_cuadrada(numero, tolerancia=1e-6):\n",
        "    if numero < 0:\n",
        "        raise ValueError(\"No se puede encontrar la raíz cuadrada de un número negativo.\")\n",
        "\n",
        "    aproximacion = numero / 2  # Empezamos con una aproximación inicial\n",
        "\n",
        "    while abs(aproximacion ** 2 - numero) > tolerancia:\n",
        "        aproximacion = (aproximacion + numero / aproximacion) / 2\n",
        "\n",
        "    return aproximacion\n",
        "\n",
        "# Ejemplo de uso\n",
        "numero = 25\n",
        "resultado = raiz_cuadrada(numero)\n",
        "print(f\"La raíz cuadrada de {numero} es aproximadamente {resultado:.6f}\")\n"
      ]
    },
    {
      "cell_type": "markdown",
      "id": "301cb629-91e3-433c-800f-baad2534271e",
      "metadata": {
        "id": "301cb629-91e3-433c-800f-baad2534271e"
      },
      "source": [
        "## Sentencia if"
      ]
    },
    {
      "cell_type": "markdown",
      "id": "410f8e45-c2d2-460f-87f6-9ea211142915",
      "metadata": {
        "id": "410f8e45-c2d2-460f-87f6-9ea211142915"
      },
      "source": [
        "El usuario proporciona su año de nacimiento\n",
        "La cantidad debe leerse como un entero\n",
        "Si la variable 2021 – año de nacimiento, es mayor o igual a 25,\n",
        "el programa debe mostrar: Posible cliente"
      ]
    },
    {
      "cell_type": "markdown",
      "id": "c12a57c1-25fd-422c-b991-689f2af4cc34",
      "metadata": {
        "id": "c12a57c1-25fd-422c-b991-689f2af4cc34"
      },
      "source": [
        "Entonces el código para alguien que dijo nació en 1993 será:"
      ]
    },
    {
      "cell_type": "code",
      "execution_count": null,
      "id": "d20cc775-bacf-4494-baf2-43a2a9bf013a",
      "metadata": {
        "id": "d20cc775-bacf-4494-baf2-43a2a9bf013a"
      },
      "outputs": [],
      "source": [
        "# Pedimos al usuario que ingrese su año de nacimiento\n",
        "anio_nacimiento = int(input(\"Ingrese su año de nacimiento: \"))\n",
        "\n",
        "# Calculamos la edad restando el año de nacimiento del año actual\n",
        "edad = 2021 - anio_nacimiento\n",
        "\n",
        "# Comprobamos si la edad es mayor o igual a 25\n",
        "if edad >= 25:\n",
        "    print(\"Posible cliente\")\n",
        "else:\n",
        "    print(\"No es posible cliente\")\n"
      ]
    },
    {
      "cell_type": "markdown",
      "id": "3ffd478d-5723-4baf-9845-10412bf3ff67",
      "metadata": {
        "id": "3ffd478d-5723-4baf-9845-10412bf3ff67"
      },
      "source": [
        "Hay que poner identación en todos lados"
      ]
    },
    {
      "cell_type": "code",
      "execution_count": null,
      "id": "8c0bf0c4-4f38-423c-b6b9-ff116ac9d4eb",
      "metadata": {
        "id": "8c0bf0c4-4f38-423c-b6b9-ff116ac9d4eb"
      },
      "outputs": [],
      "source": [
        "numero = 10\n",
        "\n",
        "if numero > 5:\n",
        "print(\"El número es mayor que 5\")  # Error: Falta la indentación de la línea siguiente\n"
      ]
    },
    {
      "cell_type": "markdown",
      "id": "c8e79e45-5fc7-4a17-ad46-59d024196579",
      "metadata": {
        "id": "c8e79e45-5fc7-4a17-ad46-59d024196579"
      },
      "source": [
        "#### Por tu cuenta\n",
        "\n",
        "Cambia la fecha de nacimiento al 2002 del primer código"
      ]
    },
    {
      "cell_type": "code",
      "source": [
        "anio_nacimiento = 2002\n",
        "\n",
        "from datetime import datetime\n",
        "anio_actual = datetime.now().year\n",
        "edad = anio_actual - anio_nacimiento\n",
        "\n",
        "if edad >= 25:\n",
        "    print(\"Posible cliente\")\n",
        "else:\n",
        "    print(\"No es posible cliente\")"
      ],
      "metadata": {
        "id": "bq8bvtyQdZ75",
        "colab": {
          "base_uri": "https://localhost:8080/"
        },
        "outputId": "afcb93f9-a290-4521-9869-38904c739d61"
      },
      "id": "bq8bvtyQdZ75",
      "execution_count": null,
      "outputs": [
        {
          "output_type": "stream",
          "name": "stdout",
          "text": [
            "No es posible cliente\n"
          ]
        }
      ]
    },
    {
      "cell_type": "markdown",
      "id": "d4c29904-0f82-468e-9b25-3bcf5e671341",
      "metadata": {
        "id": "d4c29904-0f82-468e-9b25-3bcf5e671341"
      },
      "source": [
        "## Sentencia if..else, if..elif...else"
      ]
    },
    {
      "cell_type": "markdown",
      "id": "9cd25587-cc7a-4202-b3e5-5e99369a0f6c",
      "metadata": {
        "id": "9cd25587-cc7a-4202-b3e5-5e99369a0f6c"
      },
      "source": [
        "El usuario proporciona su año de nacimiento\n",
        "\n",
        "La cantidad debe leerse como un entero\n",
        "\n",
        "Si la variable 2021 – año de nacimiento, es mayor o igual a 25,\n",
        "\n",
        "el programa debe mostrar: Posible cliente\n",
        "\n",
        "en otro caso,\n",
        "\n",
        "debe mostrar: No es candidato"
      ]
    },
    {
      "cell_type": "markdown",
      "id": "3c80901e-93b7-4c46-8042-a1d135f92142",
      "metadata": {
        "id": "3c80901e-93b7-4c46-8042-a1d135f92142"
      },
      "source": [
        "OK, escribe el código de lo anterior, observa la identación, prueba para 1985"
      ]
    },
    {
      "cell_type": "code",
      "execution_count": null,
      "id": "6fc8df95-ced6-476d-921f-a9c38acbcc1f",
      "metadata": {
        "id": "6fc8df95-ced6-476d-921f-a9c38acbcc1f"
      },
      "outputs": [],
      "source": [
        "# Pedimos al usuario que ingrese su año de nacimiento\n",
        "anio_nacimiento = int(input(\"Ingrese su año de nacimiento: \"))\n",
        "\n",
        "# Calculamos la edad restando el año de nacimiento del año actual\n",
        "edad = 2021 - anio_nacimiento\n",
        "\n",
        "# Comprobamos si la edad es mayor o igual a 25\n",
        "if edad >= 25:\n",
        "    print(\"Posible cliente\")\n",
        "else:\n",
        "    print(\"No es candidato\")\n"
      ]
    },
    {
      "cell_type": "markdown",
      "id": "eb5474b3-2c69-425d-b284-4b4973d3e4c4",
      "metadata": {
        "id": "eb5474b3-2c69-425d-b284-4b4973d3e4c4"
      },
      "source": [
        "Y ahora para 1999"
      ]
    },
    {
      "cell_type": "code",
      "execution_count": null,
      "id": "a1c7c3e9-c733-414e-a384-0d594a6018aa",
      "metadata": {
        "id": "a1c7c3e9-c733-414e-a384-0d594a6018aa"
      },
      "outputs": [],
      "source": [
        "# Pedimos al usuario que ingrese su año de nacimiento\n",
        "anio_nacimiento = int(input(\"Ingrese su año de nacimiento: \"))\n",
        "\n",
        "# Calculamos la edad restando el año de nacimiento del año actual\n",
        "edad = 2021 - anio_nacimiento\n",
        "\n",
        "# Comprobamos si la edad es mayor o igual a 25\n",
        "if edad >= 25:\n",
        "    print(\"Posible cliente\")\n",
        "else:\n",
        "    print(\"No es candidato\")\n"
      ]
    },
    {
      "cell_type": "markdown",
      "id": "b1cb650e-ff5d-4791-819e-3d4f31ae49f5",
      "metadata": {
        "id": "b1cb650e-ff5d-4791-819e-3d4f31ae49f5"
      },
      "source": [
        "Ok, otra alternativa es asignar las acciones a una variable"
      ]
    },
    {
      "cell_type": "code",
      "execution_count": null,
      "id": "91b05b4c-e6ea-487c-8e23-341d6a5c33d2",
      "metadata": {
        "id": "91b05b4c-e6ea-487c-8e23-341d6a5c33d2"
      },
      "outputs": [],
      "source": [
        "# Pedimos al usuario que ingrese su año de nacimiento\n",
        "anio_nacimiento = int(input(\"Ingrese su año de nacimiento: \"))\n",
        "\n",
        "# Calculamos la edad restando el año de nacimiento del año actual\n",
        "edad = 2021 - anio_nacimiento\n",
        "\n",
        "# Comprobamos si la edad es mayor o igual a 25\n",
        "resultado = \"Posible cliente\" if edad >= 25 else \"No es candidato\"\n",
        "\n",
        "# Imprimimos el resultado\n",
        "print(resultado)\n"
      ]
    },
    {
      "cell_type": "markdown",
      "id": "06bd7ff2-8017-4580-8cf4-845751e7143f",
      "metadata": {
        "id": "06bd7ff2-8017-4580-8cf4-845751e7143f"
      },
      "source": [
        "Cada condición (if) puede realizar más de una acción - solo recuerda indentar"
      ]
    },
    {
      "cell_type": "markdown",
      "id": "1781ed40-5814-4600-a8b6-2d9e5a816e9a",
      "metadata": {
        "id": "1781ed40-5814-4600-a8b6-2d9e5a816e9a"
      },
      "source": [
        "Por que si dejamos sin identación, siempre se va a ejecutar (y es un mundo de errores)"
      ]
    },
    {
      "cell_type": "code",
      "execution_count": null,
      "id": "7eff9135-4ba5-4585-a359-d99a9846fb2c",
      "metadata": {
        "id": "7eff9135-4ba5-4585-a359-d99a9846fb2c"
      },
      "outputs": [],
      "source": [
        "numero = 10\n",
        "\n",
        "if numero > 5:\n",
        "print(\"El número es mayor que 5\")\n"
      ]
    },
    {
      "cell_type": "markdown",
      "id": "45f8933d-a55f-4236-833d-8058d16395e6",
      "metadata": {
        "id": "45f8933d-a55f-4236-833d-8058d16395e6"
      },
      "source": [
        "Si la edad de la persona es mayor o igual a 60\n",
        "Mostrar: Adulto Mayor\n",
        "Si la edad de la persona es mayor o igual a 27\n",
        "Mostrar: Adulto\n",
        "Si la edad de la persona es mayor o igual a 18\n",
        "Mostrar: Joven\n",
        "Si la edad de la persona es mayor o igual a 12\n",
        "Mostrar: Adolescente\n",
        "En otro caso,\n",
        "Mostrar: Infante"
      ]
    },
    {
      "cell_type": "code",
      "source": [
        "# Pedimos al usuario que ingrese su año de nacimiento\n",
        "anio_nacimiento = int(input(\"Ingrese su año de nacimiento: \"))\n",
        "\n",
        "# Calculamos la edad restando el año de nacimiento del año actual\n",
        "edad = 2021 - anio_nacimiento\n",
        "\n",
        "# Comprobamos las condiciones y mostramos el mensaje correspondiente\n",
        "if edad >= 60:\n",
        "    print(\"Adulto Mayor\")\n",
        "elif edad >= 27:\n",
        "    print(\"Adulto\")\n",
        "elif edad >= 18:\n",
        "    print(\"Joven\")\n",
        "elif edad >= 12:\n",
        "    print(\"Adolescente\")\n",
        "else:\n",
        "    print(\"Infante\")\n"
      ],
      "metadata": {
        "id": "5vU0TB2ad3KL"
      },
      "id": "5vU0TB2ad3KL",
      "execution_count": null,
      "outputs": []
    },
    {
      "cell_type": "markdown",
      "id": "6a350229-d037-49b8-8a10-831c579ac107",
      "metadata": {
        "id": "6a350229-d037-49b8-8a10-831c579ac107"
      },
      "source": [
        "##Sentencia While"
      ]
    },
    {
      "cell_type": "markdown",
      "id": "c774587b-29d9-475f-9912-24ab63b9fc04",
      "metadata": {
        "id": "c774587b-29d9-475f-9912-24ab63b9fc04"
      },
      "source": [
        "Iniciar con potencia=4\n",
        "Mientras que potencia sea menor o igual a 817\n",
        "Potencia=potencia*4"
      ]
    },
    {
      "cell_type": "code",
      "execution_count": null,
      "id": "aa39f319-6140-457b-9dfe-d65e260ad670",
      "metadata": {
        "id": "aa39f319-6140-457b-9dfe-d65e260ad670"
      },
      "outputs": [],
      "source": [
        "# Inicializamos la variable potencia\n",
        "potencia = 4\n",
        "\n",
        "# Mientras que potencia sea menor o igual a 817, multiplicamos potencia por 4\n",
        "while potencia <= 817:\n",
        "    print(potencia)\n",
        "    potencia *= 4\n"
      ]
    },
    {
      "cell_type": "code",
      "source": [
        "#Contar hacia arriba hasta cierto número\n",
        "contador = 1\n",
        "while contador <= 5:\n",
        "    print(contador)\n",
        "    contador += 1\n"
      ],
      "metadata": {
        "id": "xY12UUhKeJ_G"
      },
      "id": "xY12UUhKeJ_G",
      "execution_count": null,
      "outputs": []
    },
    {
      "cell_type": "code",
      "source": [
        "#Contar hacia abajo desde cierto número\n",
        "contador = 10\n",
        "while contador >= 1:\n",
        "    print(contador)\n",
        "    contador -= 1\n"
      ],
      "metadata": {
        "id": "XTmUmZuAeM88"
      },
      "id": "XTmUmZuAeM88",
      "execution_count": null,
      "outputs": []
    },
    {
      "cell_type": "code",
      "source": [
        "#Sumar números hasta que la suma exceda cierto límite:\n",
        "suma = 0\n",
        "numero = 1\n",
        "while suma < 10:\n",
        "    suma += numero\n",
        "    numero += 1\n",
        "print(\"La suma de los números es:\", suma)\n"
      ],
      "metadata": {
        "id": "ONaJCPxHeR4T"
      },
      "id": "ONaJCPxHeR4T",
      "execution_count": null,
      "outputs": []
    },
    {
      "cell_type": "code",
      "source": [
        "#Realizar una acción hasta que se cumpla una condición\n",
        "respuesta = input(\"¿Quieres continuar? (s/n): \")\n",
        "while respuesta.lower() == \"s\":\n",
        "    print(\"Realizando acción...\")\n",
        "    respuesta = input(\"¿Quieres continuar? (s/n): \")\n",
        "print(\"Fin del programa.\")\n"
      ],
      "metadata": {
        "id": "BRRDJqezeXbI"
      },
      "id": "BRRDJqezeXbI",
      "execution_count": null,
      "outputs": []
    },
    {
      "cell_type": "code",
      "source": [
        "#Iterar sobre una lista y realizar una acción con cada elemento\n",
        "lista = [1, 2, 3, 4, 5]\n",
        "indice = 0\n",
        "while indice < len(lista):\n",
        "    print(lista[indice])\n",
        "    indice += 1\n"
      ],
      "metadata": {
        "id": "2Kw9sjLmedxS"
      },
      "id": "2Kw9sjLmedxS",
      "execution_count": null,
      "outputs": []
    },
    {
      "cell_type": "markdown",
      "id": "3cc4527c-0db2-489c-b3f4-6824da60fe0d",
      "metadata": {
        "id": "3cc4527c-0db2-489c-b3f4-6824da60fe0d"
      },
      "source": [
        "#Sentencia For"
      ]
    },
    {
      "cell_type": "markdown",
      "id": "faf76ecb-2024-4504-b999-397258a8b613",
      "metadata": {
        "id": "faf76ecb-2024-4504-b999-397258a8b613"
      },
      "source": [
        "Analiza el siguiente ejemplo\n",
        "\n",
        "for caracter in ‘Palabra’:\n",
        "    print(caracter, end=’ ‘)\n",
        "\n"
      ]
    },
    {
      "cell_type": "code",
      "execution_count": null,
      "id": "2be519f0-0b2f-41cd-889a-324243b1c74e",
      "metadata": {
        "id": "2be519f0-0b2f-41cd-889a-324243b1c74e"
      },
      "outputs": [],
      "source": [
        "for caracter in 'Palabra':\n",
        "    print(caracter, end=' ')\n"
      ]
    },
    {
      "cell_type": "markdown",
      "id": "836a856c-ded9-42f9-b816-ca57889fdbc2",
      "metadata": {
        "id": "836a856c-ded9-42f9-b816-ca57889fdbc2"
      },
      "source": [
        "Arma un programa que te calcule el factorial de algún número dado"
      ]
    },
    {
      "cell_type": "code",
      "execution_count": null,
      "id": "7269cb54-02c7-4b6f-b400-bc8b9d573d01",
      "metadata": {
        "id": "7269cb54-02c7-4b6f-b400-bc8b9d573d01"
      },
      "outputs": [],
      "source": [
        "def factorial(numero):\n",
        "    if numero == 0:\n",
        "        return 1\n",
        "    else:\n",
        "        resultado = 1\n",
        "        for i in range(1, numero + 1):\n",
        "            resultado *= i\n",
        "        return resultado\n",
        "\n",
        "# Pedimos al usuario que ingrese un número\n",
        "numero = int(input(\"Ingrese un número para calcular su factorial: \"))\n",
        "\n",
        "# Calculamos el factorial e imprimimos el resultado\n",
        "print(\"El factorial de\", numero, \"es:\", factorial(numero))\n"
      ]
    },
    {
      "cell_type": "markdown",
      "id": "48fe5311-9076-44f6-8ef0-59ba0c09c9ea",
      "metadata": {
        "id": "48fe5311-9076-44f6-8ef0-59ba0c09c9ea"
      },
      "source": [
        "Conoce el operador *= que te permite guardar el resultado en si mismo"
      ]
    },
    {
      "cell_type": "markdown",
      "id": "f8ee4c02-8084-4b20-beb0-ffddf7f9e8a4",
      "metadata": {
        "id": "f8ee4c02-8084-4b20-beb0-ffddf7f9e8a4"
      },
      "source": [
        "Podemos usar range si la suceción de elementos en for es una suscesión ordenada"
      ]
    },
    {
      "cell_type": "code",
      "execution_count": null,
      "id": "016bb41a-99fd-4aee-aad0-ee994eb082cc",
      "metadata": {
        "id": "016bb41a-99fd-4aee-aad0-ee994eb082cc"
      },
      "outputs": [],
      "source": [
        "# Imprimiendo los números del 1 al 10\n",
        "for numero in range(1, 11):\n",
        "    print(numero, end=' ')\n"
      ]
    },
    {
      "cell_type": "markdown",
      "id": "89526fc0-663e-405b-9b71-4ad0c5eb77d6",
      "metadata": {
        "id": "89526fc0-663e-405b-9b71-4ad0c5eb77d6"
      },
      "source": [
        "Si necesitas salir del ciclo usa Break.\n",
        "\n",
        "Haz un programa que para todos los números del 1-10, muestre el número en pantalla... peeeero al llegar al 8 haga break."
      ]
    },
    {
      "cell_type": "code",
      "execution_count": null,
      "id": "7b739677-ee9b-4511-aae4-e295dcf24242",
      "metadata": {
        "id": "7b739677-ee9b-4511-aae4-e295dcf24242"
      },
      "outputs": [],
      "source": [
        "for numero in range(1, 11):\n",
        "    if numero == 8:\n",
        "        break\n",
        "    print(numero)\n"
      ]
    },
    {
      "cell_type": "markdown",
      "id": "9ec03229-a673-4e57-be0a-44708327b956",
      "metadata": {
        "id": "9ec03229-a673-4e57-be0a-44708327b956"
      },
      "source": [
        "#### Por tu cuenta\n",
        "\n",
        "Usa for para calcular el consumo promedio de los siguientes clientes\n",
        "\n",
        "[130,85,210,45,153,78.5,264.5,94]\n",
        "\n",
        "Esta lista te muestra el consumo de cada cliente"
      ]
    },
    {
      "cell_type": "code",
      "execution_count": null,
      "id": "793cbe1c-3303-4284-a5f9-da91d55cbcc6",
      "metadata": {
        "id": "793cbe1c-3303-4284-a5f9-da91d55cbcc6",
        "colab": {
          "base_uri": "https://localhost:8080/"
        },
        "outputId": "1d0745c7-8090-47e6-eb97-bf12b32682b4"
      },
      "outputs": [
        {
          "output_type": "stream",
          "name": "stdout",
          "text": [
            "El consumo promedio es: 132.50\n"
          ]
        }
      ],
      "source": [
        "consumos = [130, 85, 210, 45, 153, 78.5, 264.5, 94]\n",
        "\n",
        "suma_total = 0\n",
        "\n",
        "for consumo in consumos:\n",
        "    suma_total += consumo\n",
        "\n",
        "promedio = suma_total / len(consumos)\n",
        "\n",
        "print(f\"El consumo promedio es: {promedio:.2f}\")"
      ]
    },
    {
      "cell_type": "markdown",
      "id": "4dfbadfd-4552-40bb-be14-f0a06f6cc589",
      "metadata": {
        "id": "4dfbadfd-4552-40bb-be14-f0a06f6cc589"
      },
      "source": [
        "#### Por tu cuenta\n",
        "\n",
        "usa for para calcular el interes compuesto de una persona que invierte $10,000 en una cuenta que rinde el 8% de intereses. Supon que la persona reinvierte los intereses. Calcula la cantida ddel dinero al final de 10 años"
      ]
    },
    {
      "cell_type": "code",
      "execution_count": null,
      "id": "6ae87f0a-c126-4686-a68a-718750cd6cb4",
      "metadata": {
        "id": "6ae87f0a-c126-4686-a68a-718750cd6cb4",
        "colab": {
          "base_uri": "https://localhost:8080/"
        },
        "outputId": "42a2f46f-fd31-4a9d-a298-765b037e3282"
      },
      "outputs": [
        {
          "output_type": "stream",
          "name": "stdout",
          "text": [
            "El monto final después de 10 años es: $21589.25\n"
          ]
        }
      ],
      "source": [
        "principal = 10000\n",
        "tasa_interes = 8\n",
        "años = 10\n",
        "\n",
        "monto_final = principal\n",
        "\n",
        "for año in range(1, años + 1):\n",
        "    monto_final *= (1 + tasa_interes / 100)\n",
        "\n",
        "print(f\"El monto final después de {años} años es: ${monto_final:.2f}\")"
      ]
    },
    {
      "cell_type": "markdown",
      "id": "f70e0474-b78c-41e6-b4bf-b7d406afc18e",
      "metadata": {
        "id": "f70e0474-b78c-41e6-b4bf-b7d406afc18e"
      },
      "source": [
        "#### Por tu cuenta\n",
        "\n",
        "En una tienda de autoservicio hay un promotor en la sección de productos lácteos. La empresa\n",
        "para la que trabaja, le otorga un premio económico si rebasa $200 de ventas (venta meta) por\n",
        "cliente. La empresa cuenta con un registro en donde están marcadas las ventas de 8 clientes que\n",
        "adquirieron algunos de los productos de la marca. Por cada cliente que rebasó la cantidad meta se\n",
        "escribe 1, y si no la rebasa se escribe 2. Si número de clientes que rebasan la venta meta es más de\n",
        "la mitad, se le otorga el premio al promotor. Se requiere de un programa que señale si al promotor\n",
        "se le debe asignar el premio económico"
      ]
    },
    {
      "cell_type": "code",
      "execution_count": null,
      "id": "709467af-aa12-4e2b-a6f9-9ddbf3dc5cf4",
      "metadata": {
        "id": "709467af-aa12-4e2b-a6f9-9ddbf3dc5cf4",
        "colab": {
          "base_uri": "https://localhost:8080/"
        },
        "outputId": "c53d9cf5-1985-44a6-beb7-c156f469dad3"
      },
      "outputs": [
        {
          "output_type": "stream",
          "name": "stdout",
          "text": [
            "El promotor debe recibir el premio económico.\n"
          ]
        }
      ],
      "source": [
        "ventas = [1, 2, 1, 2, 1, 1, 2, 1]\n",
        "\n",
        "clientes_que_superaron = ventas.count(1)\n",
        "\n",
        "if clientes_que_superaron > len(ventas) / 2:\n",
        "    print(\"El promotor debe recibir el premio económico.\")\n",
        "else:\n",
        "    print(\"El promotor no debe recibir el premio económico.\")"
      ]
    },
    {
      "cell_type": "markdown",
      "id": "f8d3b5e3-6330-4c14-b58a-0cca551d2859",
      "metadata": {
        "id": "f8d3b5e3-6330-4c14-b58a-0cca551d2859"
      },
      "source": [
        "##Operadores Booleanos"
      ]
    },
    {
      "cell_type": "markdown",
      "id": "6c08d764-a3d9-4a66-b302-3d2b6ea26c9a",
      "metadata": {
        "id": "6c08d764-a3d9-4a66-b302-3d2b6ea26c9a"
      },
      "source": [
        "Arma un programa que revise si un cliente registró su mail Y que su salario mensual sea mayor a 20,000 pesos para poder declararlo como posible cliente"
      ]
    },
    {
      "cell_type": "code",
      "execution_count": null,
      "id": "5a56ad9a-8461-4b37-9822-ae169684fd99",
      "metadata": {
        "id": "5a56ad9a-8461-4b37-9822-ae169684fd99"
      },
      "outputs": [],
      "source": [
        "# Solicitamos al usuario que ingrese su email y salario mensual\n",
        "email = input(\"Ingrese su email: \")\n",
        "salario_mensual = float(input(\"Ingrese su salario mensual en pesos: \"))\n",
        "\n",
        "# Verificamos si el cliente ha registrado su email y su salario mensual es mayor a 20,000 pesos\n",
        "if email != \"\" and salario_mensual > 20000:\n",
        "    print(\"Cliente potencial\")\n",
        "else:\n",
        "    print(\"No es cliente potencial\")\n"
      ]
    },
    {
      "cell_type": "markdown",
      "id": "ef7df93f-b65c-44a8-8003-0eab0051c033",
      "metadata": {
        "id": "ef7df93f-b65c-44a8-8003-0eab0051c033"
      },
      "source": [
        "Arma un programa que revise si un posible candidato laboral va tiene titulo o al menos 5 años de experiencia laboral para poder llamarlo a entrevista"
      ]
    },
    {
      "cell_type": "code",
      "execution_count": null,
      "id": "53f119f7-01eb-46d9-b9c8-be1eb9ecdcb2",
      "metadata": {
        "id": "53f119f7-01eb-46d9-b9c8-be1eb9ecdcb2"
      },
      "outputs": [],
      "source": [
        "# Solicitamos al usuario que ingrese si tiene título (Sí o No) y su experiencia laboral en años\n",
        "tiene_titulo = input(\"¿Tiene título? (Sí/No): \").lower()\n",
        "experiencia_laboral = int(input(\"Ingrese su experiencia laboral en años: \"))\n",
        "\n",
        "# Verificamos si el posible candidato tiene título o al menos 5 años de experiencia laboral\n",
        "if tiene_titulo == \"sí\" or experiencia_laboral >= 5:\n",
        "    print(\"¡Llamar a entrevista!\")\n",
        "else:\n",
        "    print(\"No cumple con los requisitos para la entrevista.\")\n"
      ]
    }
  ],
  "metadata": {
    "kernelspec": {
      "display_name": "Python 3",
      "language": "python",
      "name": "python3"
    },
    "language_info": {
      "codemirror_mode": {
        "name": "ipython",
        "version": 3
      },
      "file_extension": ".py",
      "mimetype": "text/x-python",
      "name": "python",
      "nbconvert_exporter": "python",
      "pygments_lexer": "ipython3",
      "version": "3.8.8"
    },
    "colab": {
      "provenance": [],
      "name": "Johan_vega_taller_s3_a_explorador_ia_G_51.ipynb"
    }
  },
  "nbformat": 4,
  "nbformat_minor": 5
}