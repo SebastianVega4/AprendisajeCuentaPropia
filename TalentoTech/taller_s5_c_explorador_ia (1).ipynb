{
  "cells": [
    {
      "cell_type": "markdown",
      "id": "69901415-871c-4128-94ba-7cb605818be1",
      "metadata": {
        "id": "69901415-871c-4128-94ba-7cb605818be1"
      },
      "source": [
        "Funciones"
      ]
    },
    {
      "cell_type": "markdown",
      "id": "82a4386e-b878-475e-b82d-03dbcb9d44d3",
      "metadata": {
        "id": "82a4386e-b878-475e-b82d-03dbcb9d44d3"
      },
      "source": [
        "##Función def"
      ]
    },
    {
      "cell_type": "markdown",
      "id": "8e864b12-a5a9-4cde-b565-a59929d9d7eb",
      "metadata": {
        "id": "8e864b12-a5a9-4cde-b565-a59929d9d7eb"
      },
      "source": [
        "Vamos a comenzar creando una funcion que tome un número y devuelva su raiz cuadrada"
      ]
    },
    {
      "cell_type": "code",
      "execution_count": null,
      "id": "c555a87f-f94f-4dfb-ac88-4bd40e1f2c96",
      "metadata": {
        "id": "c555a87f-f94f-4dfb-ac88-4bd40e1f2c96"
      },
      "outputs": [],
      "source": [
        "def calcular_raiz_cuadrada(numero):\n",
        "    \"\"\"\n",
        "    Función para calcular la raíz cuadrada de un número.\n",
        "\n",
        "    Args:\n",
        "    numero (float): El número del cual calcular la raíz cuadrada.\n",
        "\n",
        "    Returns:\n",
        "    float: La raíz cuadrada del número.\n",
        "    \"\"\"\n",
        "    return numero ** 0.5\n",
        "\n",
        "# Ejemplo de uso de la función\n",
        "numero = 25\n",
        "raiz_cuadrada = calcular_raiz_cuadrada(numero)\n",
        "print(\"La raíz cuadrada de\", numero, \"es:\", raiz_cuadrada)\n"
      ]
    },
    {
      "cell_type": "markdown",
      "id": "a034c45f-dd3c-4e3b-b4b5-4c266b7eb003",
      "metadata": {
        "id": "a034c45f-dd3c-4e3b-b4b5-4c266b7eb003"
      },
      "source": [
        "Las funciones también las podemos llamar desde otras expresiones como print"
      ]
    },
    {
      "cell_type": "code",
      "execution_count": null,
      "id": "24499624-16fa-4b44-b50d-a0a77dd65543",
      "metadata": {
        "id": "24499624-16fa-4b44-b50d-a0a77dd65543"
      },
      "outputs": [],
      "source": [
        "def calcular_raiz_cuadrada(numero):\n",
        "    \"\"\"\n",
        "    Función para calcular la raíz cuadrada de un número.\n",
        "\n",
        "    Args:\n",
        "    numero (float): El número del cual calcular la raíz cuadrada.\n",
        "\n",
        "    Returns:\n",
        "    float: La raíz cuadrada del número.\n",
        "    \"\"\"\n",
        "    return numero ** 0.5\n",
        "\n",
        "# Llamar a la función desde una expresión print\n",
        "print(\"La raíz cuadrada de 25 es:\", calcular_raiz_cuadrada(25))\n"
      ]
    },
    {
      "cell_type": "markdown",
      "id": "55e03a1c-54ea-4685-b6e0-1880a7073360",
      "metadata": {
        "id": "55e03a1c-54ea-4685-b6e0-1880a7073360"
      },
      "source": [
        "#### Por tu cuenta\n",
        "\n",
        "Define una función que calcule la raiz cubica de un numero dado"
      ]
    },
    {
      "cell_type": "code",
      "execution_count": null,
      "id": "3e9e8b00-c189-400d-b1ba-467fe444b379",
      "metadata": {
        "id": "3e9e8b00-c189-400d-b1ba-467fe444b379"
      },
      "outputs": [],
      "source": [
        "def raiz_cubica(numero):\n",
        "    return numero ** (1/3)\n",
        "\n",
        "numero = float(input(\"Ingresa un número para calcular su raíz cúbica: \"))\n",
        "resultado = raiz_cubica(numero)\n",
        "\n",
        "print(f\"La raíz cúbica de {numero} es: {resultado:.2f}\")"
      ]
    },
    {
      "cell_type": "markdown",
      "id": "dc1856d4-be0c-4cc6-b217-10fb4bab5fe6",
      "metadata": {
        "id": "dc1856d4-be0c-4cc6-b217-10fb4bab5fe6"
      },
      "source": [
        "##Funciones con Múltiples Parámetros"
      ]
    },
    {
      "cell_type": "markdown",
      "id": "1f12cc0d-bd8e-45a9-b1b8-f976783ccf4f",
      "metadata": {
        "id": "1f12cc0d-bd8e-45a9-b1b8-f976783ccf4f"
      },
      "source": [
        "Ahora armaremos una función usando IF que nos dice cual es la raiz cuadrada más grande de 3 números"
      ]
    },
    {
      "cell_type": "code",
      "execution_count": null,
      "id": "8f4f0077-7108-42ce-942e-e12ee8744582",
      "metadata": {
        "id": "8f4f0077-7108-42ce-942e-e12ee8744582"
      },
      "outputs": [],
      "source": [
        "def raiz_cuadrada_mas_grande(numero1, numero2, numero3):\n",
        "    \"\"\"\n",
        "    Función para calcular la raíz cuadrada más grande de tres números.\n",
        "\n",
        "    Args:\n",
        "    numero1 (float): El primer número.\n",
        "    numero2 (float): El segundo número.\n",
        "    numero3 (float): El tercer número.\n",
        "\n",
        "    Returns:\n",
        "    float: La raíz cuadrada más grande de los tres números.\n",
        "    \"\"\"\n",
        "    raiz1 = numero1 ** 0.5\n",
        "    raiz2 = numero2 ** 0.5\n",
        "    raiz3 = numero3 ** 0.5\n",
        "\n",
        "    if raiz1 >= raiz2 and raiz1 >= raiz3:\n",
        "        return raiz1\n",
        "    elif raiz2 >= raiz1 and raiz2 >= raiz3:\n",
        "        return raiz2\n",
        "    else:\n",
        "        return raiz3\n",
        "\n",
        "# Ejemplo de uso de la función\n",
        "num1 = 16\n",
        "num2 = 25\n",
        "num3 = 9\n",
        "raiz_mas_grande = raiz_cuadrada_mas_grande(num1, num2, num3)\n",
        "print(\"La raíz cuadrada más grande de\", num1, \",\", num2, \"y\", num3, \"es:\", raiz_mas_grande)\n",
        "\n"
      ]
    },
    {
      "cell_type": "markdown",
      "id": "83d18c4c-e99c-4f4c-a0dc-41b41f50c6ed",
      "metadata": {
        "id": "83d18c4c-e99c-4f4c-a0dc-41b41f50c6ed"
      },
      "source": [
        "#### Por tu cuenta\n",
        "\n",
        "Llama la función max con la lista 15,82,13,55 como argumento, yluego la min con la palabara amarillo como argumento"
      ]
    },
    {
      "cell_type": "code",
      "source": [
        "numeros = [15, 82, 13, 55]\n",
        "maximo = max(numeros)\n",
        "\n",
        "palabra = \"amarillo\"\n",
        "minimo = min(palabra)\n",
        "\n",
        "print(\"El valor máximo de la lista es:\", maximo)\n",
        "print(\"El valor mínimo de la palabra es:\", minimo)"
      ],
      "metadata": {
        "id": "v6ui8fKmRigX"
      },
      "id": "v6ui8fKmRigX",
      "execution_count": null,
      "outputs": []
    },
    {
      "cell_type": "markdown",
      "id": "2d356f80-2d18-4849-a3dd-4253cb4edcd6",
      "metadata": {
        "id": "2d356f80-2d18-4849-a3dd-4253cb4edcd6"
      },
      "source": [
        "##Números aleatorios"
      ]
    },
    {
      "cell_type": "markdown",
      "id": "c7ad0802-525b-4399-8fc7-454593d86ae9",
      "metadata": {
        "id": "c7ad0802-525b-4399-8fc7-454593d86ae9"
      },
      "source": [
        "Vamos a simular el lanzamiento de una moneda (cara o cruz), usemos la biblioteca random y simulemos 10 tiros"
      ]
    },
    {
      "cell_type": "code",
      "execution_count": null,
      "id": "3a8bd37e-3b1a-499b-88c3-c3063b1c2f72",
      "metadata": {
        "id": "3a8bd37e-3b1a-499b-88c3-c3063b1c2f72"
      },
      "outputs": [],
      "source": [
        "import random\n",
        "\n",
        "def lanzamiento_moneda():\n",
        "    \"\"\"\n",
        "    Función para simular el lanzamiento de una moneda (cara o cruz).\n",
        "\n",
        "    Returns:\n",
        "    str: 'cara' si el resultado es cara, 'cruz' si el resultado es cruz.\n",
        "    \"\"\"\n",
        "    resultado = random.choice(['cara', 'cruz'])\n",
        "    return resultado\n",
        "\n",
        "# Simular 10 lanzamientos de moneda\n",
        "print(\"Simulación de 10 lanzamientos de moneda:\")\n",
        "for i in range(10):\n",
        "    print(\"Lanzamiento\", i+1, \":\", lanzamiento_moneda())\n"
      ]
    },
    {
      "cell_type": "markdown",
      "id": "05cefe11-289a-44e2-a987-b443cce37ce3",
      "metadata": {
        "id": "05cefe11-289a-44e2-a987-b443cce37ce3"
      },
      "source": [
        "Ejecutalo de nuevo, revisa como ahora tenemos diferentes resultados"
      ]
    },
    {
      "cell_type": "markdown",
      "id": "4e02ace3-df9d-41aa-87bd-6fd2daa2d0a4",
      "metadata": {
        "id": "4e02ace3-df9d-41aa-87bd-6fd2daa2d0a4"
      },
      "source": [
        "Ahora vamos a escribir un código que simule el lanzamiento de una moneda 100,000 veces. No vamos a mostrar 100,000 resultados, solo una pequeña tabla con todas las caras y todas la cruces"
      ]
    },
    {
      "cell_type": "code",
      "execution_count": null,
      "id": "70ee75bc-9a07-4c56-af3b-38cc3efcd256",
      "metadata": {
        "id": "70ee75bc-9a07-4c56-af3b-38cc3efcd256"
      },
      "outputs": [],
      "source": [
        "import random\n",
        "\n",
        "def lanzamiento_moneda():\n",
        "    \"\"\"\n",
        "    Función para simular el lanzamiento de una moneda (cara o cruz).\n",
        "\n",
        "    Returns:\n",
        "    str: 'cara' si el resultado es cara, 'cruz' si el resultado es cruz.\n",
        "    \"\"\"\n",
        "    resultado = random.choice(['cara', 'cruz'])\n",
        "    return resultado\n",
        "\n",
        "# Simular 100,000 lanzamientos de moneda\n",
        "lanzamientos = [lanzamiento_moneda() for _ in range(100000)]\n",
        "\n",
        "# Contar el número de caras y cruces\n",
        "num_caras = lanzamientos.count('cara')\n",
        "num_cruces = lanzamientos.count('cruz')\n",
        "\n",
        "# Mostrar un resumen de los resultados\n",
        "print(\"Resumen de 100,000 lanzamientos de moneda:\")\n",
        "print(\"Número de caras:\", num_caras)\n",
        "print(\"Número de cruces:\", num_cruces)\n"
      ]
    },
    {
      "cell_type": "markdown",
      "id": "5ac8c289-07af-4305-a7b0-a47f551d142a",
      "metadata": {
        "id": "5ac8c289-07af-4305-a7b0-a47f551d142a"
      },
      "source": [
        "Si queremos obligar a que random siempre nos de los mismos resultados, podemos usar seed. Arma una semilla de 25 y ejecuta el código 2 veces, checa como se repita (seed necesita repetirse 2 veces tmb)"
      ]
    },
    {
      "cell_type": "code",
      "execution_count": null,
      "id": "06562bd7-2288-4e71-b817-55aeae5017b4",
      "metadata": {
        "id": "06562bd7-2288-4e71-b817-55aeae5017b4"
      },
      "outputs": [],
      "source": []
    },
    {
      "cell_type": "markdown",
      "id": "ae4f4e14-ebd5-45f8-a8e4-9b31641a0af1",
      "metadata": {
        "id": "ae4f4e14-ebd5-45f8-a8e4-9b31641a0af1"
      },
      "source": [
        "Es momento de jugar a \"El Gran 8\".\n",
        "\n",
        "Lo primero será lanzar un par de dados - arma una función que simule 2 dados y devuelva los valores que cayeron"
      ]
    },
    {
      "cell_type": "code",
      "execution_count": null,
      "id": "07d2eda1-61af-4814-89da-822a1cb05e01",
      "metadata": {
        "id": "07d2eda1-61af-4814-89da-822a1cb05e01"
      },
      "outputs": [],
      "source": [
        "import random\n",
        "\n",
        "# Fijar la semilla a 25\n",
        "random.seed(25)\n",
        "\n",
        "# Simular 10 lanzamientos de moneda\n",
        "lanzamientos_1 = [random.choice(['cara', 'cruz']) for _ in range(10)]\n",
        "\n",
        "# Imprimir los resultados del primer conjunto de lanzamientos\n",
        "print(\"Primer conjunto de lanzamientos (semilla fijada a 25):\", lanzamientos_1)\n",
        "\n",
        "# Fijar la semilla nuevamente a 25\n",
        "random.seed(25)\n",
        "\n",
        "# Simular otros 10 lanzamientos de moneda\n",
        "lanzamientos_2 = [random.choice(['cara', 'cruz']) for _ in range(10)]\n",
        "\n",
        "# Imprimir los resultados del segundo conjunto de lanzamientos\n",
        "print(\"Segundo conjunto de lanzamientos (semilla fijada a 25):\", lanzamientos_2)\n"
      ]
    },
    {
      "cell_type": "markdown",
      "id": "6c524cee-4fb0-496d-b33b-343a1b9d6d62",
      "metadata": {
        "id": "6c524cee-4fb0-496d-b33b-343a1b9d6d62"
      },
      "source": [
        "Ahora arma una función que muestre la suma de los resultados de los 2 dados"
      ]
    },
    {
      "cell_type": "code",
      "execution_count": null,
      "id": "f64c316a-f793-41ed-a4c0-68d014fbe816",
      "metadata": {
        "id": "f64c316a-f793-41ed-a4c0-68d014fbe816"
      },
      "outputs": [],
      "source": [
        "import random\n",
        "\n",
        "def lanzamiento_dados():\n",
        "    \"\"\"\n",
        "    Función para simular el lanzamiento de dos dados y devolver la suma de los resultados.\n",
        "\n",
        "    Returns:\n",
        "    int: La suma de los resultados de los dos dados.\n",
        "    \"\"\"\n",
        "    dado1 = random.randint(1, 6)  # Lanzamiento del primer dado\n",
        "    dado2 = random.randint(1, 6)  # Lanzamiento del segundo dado\n",
        "    suma = dado1 + dado2  # Suma de los resultados\n",
        "    return suma\n",
        "\n",
        "# Simular un lanzamiento de dos dados y mostrar la suma de los resultados\n",
        "print(\"La suma de los resultados de los dos dados es:\", lanzamiento_dados())\n"
      ]
    },
    {
      "cell_type": "markdown",
      "id": "c5eb4532-dce4-4397-b753-223bb5030a8f",
      "metadata": {
        "id": "c5eb4532-dce4-4397-b753-223bb5030a8f"
      },
      "source": [
        "Ahora necesitamos una variable que almacene el resutlado de lanzar los dados (funcion 1) y otra que sume los resultados de la función 1."
      ]
    },
    {
      "cell_type": "code",
      "execution_count": null,
      "id": "9f51af4c-2def-494b-b7a2-9201414a4019",
      "metadata": {
        "id": "9f51af4c-2def-494b-b7a2-9201414a4019"
      },
      "outputs": [],
      "source": [
        "import random\n",
        "\n",
        "def lanzamiento_dados():\n",
        "    \"\"\"\n",
        "    Función para simular el lanzamiento de dos dados y devolver la suma de los resultados.\n",
        "\n",
        "    Returns:\n",
        "    int: La suma de los resultados de los dos dados.\n",
        "    \"\"\"\n",
        "    dado1 = random.randint(1, 6)  # Lanzamiento del primer dado\n",
        "    dado2 = random.randint(1, 6)  # Lanzamiento del segundo dado\n",
        "    suma = dado1 + dado2  # Suma de los resultados\n",
        "    return suma\n",
        "\n",
        "# Lanzamiento de los dados y almacenamiento del resultado\n",
        "resultado_lanzamiento = lanzamiento_dados()\n",
        "\n",
        "# Suma de los resultados de los lanzamientos\n",
        "suma_total = resultado_lanzamiento\n",
        "\n",
        "# Mostrar el resultado del lanzamiento y la suma total\n",
        "print(\"Resultado del lanzamiento de los dados:\", resultado_lanzamiento)\n",
        "print(\"Suma total de los resultados:\", suma_total)\n"
      ]
    },
    {
      "cell_type": "markdown",
      "id": "21576096-58ea-4bd7-9e1b-bbe197aa08f2",
      "metadata": {
        "id": "21576096-58ea-4bd7-9e1b-bbe197aa08f2"
      },
      "source": [
        "Ahora, vamos  a simular las consecuencias del primer tiro - si la suma es 8, ganaste, si es 7, perdiste, y si no, continuamos"
      ]
    },
    {
      "cell_type": "code",
      "execution_count": null,
      "id": "b35649ce-62bb-48fe-904a-089dccb42867",
      "metadata": {
        "id": "b35649ce-62bb-48fe-904a-089dccb42867"
      },
      "outputs": [],
      "source": [
        "import random\n",
        "\n",
        "def lanzamiento_dados():\n",
        "    \"\"\"\n",
        "    Función para simular el lanzamiento de dos dados y devolver la suma de los resultados.\n",
        "\n",
        "    Returns:\n",
        "    int: La suma de los resultados de los dos dados.\n",
        "    \"\"\"\n",
        "    dado1 = random.randint(1, 6)  # Lanzamiento del primer dado\n",
        "    dado2 = random.randint(1, 6)  # Lanzamiento del segundo dado\n",
        "    suma = dado1 + dado2  # Suma de los resultados\n",
        "    return suma\n",
        "\n",
        "# Simular el primer tiro\n",
        "resultado_primer_tiro = lanzamiento_dados()\n",
        "\n",
        "# Verificar las consecuencias del primer tiro\n",
        "if resultado_primer_tiro == 8:\n",
        "    print(\"¡Ganaste!\")\n",
        "elif resultado_primer_tiro == 7:\n",
        "    print(\"¡Perdiste!\")\n",
        "else:\n",
        "    print(\"Continuamos...\")\n",
        "\n",
        "# Mostrar el resultado del primer tiro\n",
        "print(\"Resultado del primer tiro:\", resultado_primer_tiro)\n"
      ]
    },
    {
      "cell_type": "markdown",
      "id": "34507a56-d650-4156-b1f2-d485a9b3634e",
      "metadata": {
        "id": "34507a56-d650-4156-b1f2-d485a9b3634e"
      },
      "source": [
        "Y ahora con un bucle vamos a seguir el juego, se relanzan los dados y si se hace un bucle while que mientras que no haya un resultado de 6,8, o 7, se sigue tirando, si no se define si se ganó o se perdió"
      ]
    },
    {
      "cell_type": "code",
      "execution_count": null,
      "id": "0142cde5-6158-4c73-bbf4-e2d48efcd532",
      "metadata": {
        "id": "0142cde5-6158-4c73-bbf4-e2d48efcd532"
      },
      "outputs": [],
      "source": [
        "import random\n",
        "\n",
        "def lanzamiento_dados():\n",
        "    \"\"\"\n",
        "    Función para simular el lanzamiento de dos dados y devolver la suma de los resultados.\n",
        "\n",
        "    Returns:\n",
        "    int: La suma de los resultados de los dos dados.\n",
        "    \"\"\"\n",
        "    dado1 = random.randint(1, 6)  # Lanzamiento del primer dado\n",
        "    dado2 = random.randint(1, 6)  # Lanzamiento del segundo dado\n",
        "    suma = dado1 + dado2  # Suma de los resultados\n",
        "    return suma\n",
        "\n",
        "# Variable para almacenar el resultado del primer tiro\n",
        "resultado_primer_tiro = lanzamiento_dados()\n",
        "\n",
        "# Bucle while para seguir el juego\n",
        "while resultado_primer_tiro not in [6, 7, 8]:\n",
        "    print(\"Resultado del tiro:\", resultado_primer_tiro)\n",
        "    resultado_primer_tiro = lanzamiento_dados()\n",
        "\n",
        "# Verificar si se ganó o se perdió\n",
        "if resultado_primer_tiro == 6 or resultado_primer_tiro == 8:\n",
        "    print(\"¡Ganaste!\")\n",
        "elif resultado_primer_tiro == 7:\n",
        "    print(\"¡Perdiste!\")\n"
      ]
    },
    {
      "cell_type": "markdown",
      "id": "6c9e079c-3683-4901-a856-0bc24d2ea3b5",
      "metadata": {
        "id": "6c9e079c-3683-4901-a856-0bc24d2ea3b5"
      },
      "source": [
        "#### Por tu cuenta\n",
        "\n",
        "Usa un bucle for, randrange y una expresión condicional para simular 20 tiros de moneda, mosrando A para águila y S para Sello"
      ]
    },
    {
      "cell_type": "code",
      "execution_count": null,
      "id": "24ea22a4-3fea-416b-af85-6a026c4ca9e7",
      "metadata": {
        "id": "24ea22a4-3fea-416b-af85-6a026c4ca9e7"
      },
      "outputs": [],
      "source": [
        "import random\n",
        "\n",
        "for _ in range(20):\n",
        "    tiro = random.randrange(2)\n",
        "\n",
        "    resultado = \"A\" if tiro == 0 else \"S\"\n",
        "\n",
        "    print(resultado, end=\" \")"
      ]
    },
    {
      "cell_type": "markdown",
      "id": "902a0cb5-4b49-40f2-b285-afd87b760f18",
      "metadata": {
        "id": "902a0cb5-4b49-40f2-b285-afd87b760f18"
      },
      "source": [
        "##Funciones sin parámetros y múltiples parámetros"
      ]
    },
    {
      "cell_type": "markdown",
      "id": "71dd025d-bf4b-4c68-99b5-0cb72614740e",
      "metadata": {
        "id": "71dd025d-bf4b-4c68-99b5-0cb72614740e"
      },
      "source": [
        "def raizcuadra(numero):\n",
        "    \"\"\"Esta función saca la raiz cuadra de un número\"\"\"\n",
        "    return numero ** (1/2)Se acuerdan de la primer funcion que hicimos? Que pasa si la corremos sin parametro?"
      ]
    },
    {
      "cell_type": "code",
      "execution_count": null,
      "id": "e381d145-b1cb-46c5-99b9-9f83e90964bd",
      "metadata": {
        "id": "e381d145-b1cb-46c5-99b9-9f83e90964bd"
      },
      "outputs": [],
      "source": [
        "#Probar acá"
      ]
    },
    {
      "cell_type": "markdown",
      "id": "010114c1-509a-4cc1-a388-ca28850d9932",
      "metadata": {
        "id": "010114c1-509a-4cc1-a388-ca28850d9932"
      },
      "source": [
        "Asigna un parametro estandar para evitar este error"
      ]
    },
    {
      "cell_type": "code",
      "source": [
        "def raizcuadra(numero=0):\n",
        "    \"\"\"Esta función saca la raiz cuadrada de un número.\"\"\"\n",
        "    return numero ** (1/2)\n",
        "\n",
        "# Ejemplo de uso\n",
        "print(raizcuadra())  # Si no se proporciona ningún argumento, se usará el valor predeterminado\n"
      ],
      "metadata": {
        "id": "7iaRE5j0Th4r"
      },
      "id": "7iaRE5j0Th4r",
      "execution_count": null,
      "outputs": []
    },
    {
      "cell_type": "markdown",
      "id": "6c3d4102-a3b3-40de-a916-1df8e54b4a29",
      "metadata": {
        "id": "6c3d4102-a3b3-40de-a916-1df8e54b4a29"
      },
      "source": [
        "También, hay funciones que pueden aceptar una cantidad indefinida de parametros - arma una función llamada promedio_calif que te diga el promedio de una cantidad arbitraria de calificaciones"
      ]
    },
    {
      "cell_type": "code",
      "execution_count": null,
      "id": "a3fc7b58-87e9-441e-9772-14f961c0f1b4",
      "metadata": {
        "id": "a3fc7b58-87e9-441e-9772-14f961c0f1b4"
      },
      "outputs": [],
      "source": [
        "def promedio_calif(*calificaciones):\n",
        "    \"\"\"Calcula el promedio de una cantidad arbitraria de calificaciones.\"\"\"\n",
        "    if not calificaciones:\n",
        "        return 0  # Si no se proporcionan calificaciones, se devuelve 0\n",
        "\n",
        "    total = sum(calificaciones)  # Suma de todas las calificaciones\n",
        "    promedio = total / len(calificaciones)  # Promedio de las calificaciones\n",
        "    return promedio\n",
        "\n",
        "# Ejemplo de uso\n",
        "print(promedio_calif(8, 7, 9, 8.5))  # Calcula el promedio de 4 calificaciones\n",
        "print(promedio_calif(10, 9, 8))       # Calcula el promedio de 3 calificaciones\n",
        "print(promedio_calif(6))              # Calcula el promedio de una única calificación\n",
        "print(promedio_calif())               # Devuelve 0 si no se proporcionan calificaciones\n"
      ]
    },
    {
      "cell_type": "markdown",
      "id": "e3f6b2e9-4ed4-4c34-81b1-e60ca1b59bff",
      "metadata": {
        "id": "e3f6b2e9-4ed4-4c34-81b1-e60ca1b59bff"
      },
      "source": [
        "#### Por tu cuenta\n",
        "\n",
        "Arma una función que reciba una cantidad arbitraria de argumentos y calcule el producto de multiplicarlos todos entre ellos"
      ]
    },
    {
      "cell_type": "code",
      "execution_count": null,
      "id": "1e1d13b9-3cb1-43e5-9cf9-b6da52643a78",
      "metadata": {
        "id": "1e1d13b9-3cb1-43e5-9cf9-b6da52643a78"
      },
      "outputs": [],
      "source": [
        "def producto(*args):\n",
        "    resultado = 1\n",
        "\n",
        "    for num in args:\n",
        "        resultado *= num\n",
        "\n",
        "    return resultado\n",
        "\n",
        "producto_resultado = producto(2, 3, 4, 5)\n",
        "\n",
        "print(\"El producto es:\", producto_resultado)"
      ]
    },
    {
      "cell_type": "markdown",
      "id": "5e3fc9f1-f1c8-419e-a7ad-ad015daa9ada",
      "metadata": {
        "id": "5e3fc9f1-f1c8-419e-a7ad-ad015daa9ada"
      },
      "source": [
        "##El módulo de matemáticas de Python"
      ]
    },
    {
      "cell_type": "markdown",
      "id": "66a15356-6461-4202-a7d0-56526d3c1536",
      "metadata": {
        "id": "66a15356-6461-4202-a7d0-56526d3c1536"
      },
      "source": [
        "Calcula el log10 de 1000"
      ]
    },
    {
      "cell_type": "code",
      "execution_count": null,
      "id": "d04ec048-5865-4040-a3f2-3b3cbcb1d40a",
      "metadata": {
        "id": "d04ec048-5865-4040-a3f2-3b3cbcb1d40a"
      },
      "outputs": [],
      "source": [
        "import math\n",
        "\n",
        "# Calcular el logaritmo en base 10 de 1000\n",
        "resultado = math.log10(1000)\n",
        "\n",
        "# Imprimir el resultado\n",
        "print(\"El logaritmo en base 10 de 1000 es:\", resultado)\n"
      ]
    }
  ],
  "metadata": {
    "kernelspec": {
      "display_name": "Python 3",
      "language": "python",
      "name": "python3"
    },
    "language_info": {
      "codemirror_mode": {
        "name": "ipython",
        "version": 3
      },
      "file_extension": ".py",
      "mimetype": "text/x-python",
      "name": "python",
      "nbconvert_exporter": "python",
      "pygments_lexer": "ipython3",
      "version": "3.8.8"
    },
    "colab": {
      "provenance": []
    }
  },
  "nbformat": 4,
  "nbformat_minor": 5
}