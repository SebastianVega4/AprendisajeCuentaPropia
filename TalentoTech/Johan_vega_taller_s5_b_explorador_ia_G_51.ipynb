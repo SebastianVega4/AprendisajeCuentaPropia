{
  "cells": [
    {
      "cell_type": "markdown",
      "id": "fade2863-6270-4914-b00e-beec38683068",
      "metadata": {
        "id": "fade2863-6270-4914-b00e-beec38683068"
      },
      "source": [
        "#Diccionarios y Conjuntos"
      ]
    },
    {
      "cell_type": "markdown",
      "id": "45971094-5533-4b0b-b0c2-f223ddc50d89",
      "metadata": {
        "id": "45971094-5533-4b0b-b0c2-f223ddc50d89"
      },
      "source": [
        "Un diccionario tiene es una colección no ordenada de parejas, estas parejas contienen llaves y\n",
        "datos\n",
        "\n",
        "Un conjunto es una colección no ordenada de valores únicos\n",
        "\n",
        "---\n",
        "\n"
      ]
    },
    {
      "cell_type": "markdown",
      "id": "3a6c6ca6-5ffa-45e1-898f-32b0b3291dee",
      "metadata": {
        "id": "3a6c6ca6-5ffa-45e1-898f-32b0b3291dee"
      },
      "source": [
        "## Diccionarios"
      ]
    },
    {
      "cell_type": "markdown",
      "id": "a91d3c4a-7942-4786-bdfc-54dca1900ab7",
      "metadata": {
        "id": "a91d3c4a-7942-4786-bdfc-54dca1900ab7"
      },
      "source": [
        "Vamos  a crear un diccionario con los nombres Laura, Daniel, Alberto y Rogelio, y sus códigos la, dn, al, ro."
      ]
    },
    {
      "cell_type": "code",
      "execution_count": null,
      "id": "a31265bf-7ccb-4845-95cd-24906010c017",
      "metadata": {
        "id": "a31265bf-7ccb-4845-95cd-24906010c017"
      },
      "outputs": [],
      "source": [
        "# Crear un diccionario con los nombres y códigos\n",
        "diccionario_nombres = {\n",
        "    \"Laura\": \"la\",\n",
        "    \"Daniel\": \"dn\",\n",
        "    \"Alberto\": \"al\",\n",
        "    \"Rogelio\": \"ro\"\n",
        "}\n",
        "\n",
        "print(\"Diccionario de nombres y códigos:\", diccionario_nombres)\n"
      ]
    },
    {
      "cell_type": "markdown",
      "id": "7f507c09-a959-414b-8d99-fd8f623c4a42",
      "metadata": {
        "id": "7f507c09-a959-414b-8d99-fd8f623c4a42"
      },
      "source": [
        "¿Cuantas parejas hay en el diccionario?"
      ]
    },
    {
      "cell_type": "code",
      "execution_count": null,
      "id": "d32107e7-8f3e-451e-87f8-ab2f925153cd",
      "metadata": {
        "id": "d32107e7-8f3e-451e-87f8-ab2f925153cd"
      },
      "outputs": [],
      "source": [
        "# Diccionario de nombres y códigos\n",
        "diccionario_nombres = {\n",
        "    \"Laura\": \"la\",\n",
        "    \"Daniel\": \"dn\",\n",
        "    \"Alberto\": \"al\",\n",
        "    \"Rogelio\": \"ro\"\n",
        "}\n",
        "\n",
        "# Contar el número de parejas en el diccionario\n",
        "num_parejas = len(diccionario_nombres)\n",
        "\n",
        "print(\"Número de parejas en el diccionario:\", num_parejas)\n"
      ]
    },
    {
      "cell_type": "markdown",
      "id": "fbb66627-99e6-48b7-a4be-095ffe3a2c5d",
      "metadata": {
        "id": "fbb66627-99e6-48b7-a4be-095ffe3a2c5d"
      },
      "source": [
        "Ahora crea un diccionario donde mapees a los usuarios con su edad - 28, 31, 27 y 65 respectivamente."
      ]
    },
    {
      "cell_type": "code",
      "execution_count": null,
      "id": "9b8c28d5-4993-4150-9dc3-65e5afca47c0",
      "metadata": {
        "id": "9b8c28d5-4993-4150-9dc3-65e5afca47c0"
      },
      "outputs": [],
      "source": [
        "# Diccionario de usuarios y edades\n",
        "diccionario_usuarios_edades = {\n",
        "    \"Laura\": 28,\n",
        "    \"Daniel\": 31,\n",
        "    \"Alberto\": 27,\n",
        "    \"Rogelio\": 65\n",
        "}\n",
        "\n",
        "print(\"Diccionario de usuarios y edades:\", diccionario_usuarios_edades)\n"
      ]
    },
    {
      "cell_type": "markdown",
      "id": "36cf9a7a-f6a0-4523-8df6-1909f2662f98",
      "metadata": {
        "id": "36cf9a7a-f6a0-4523-8df6-1909f2662f98"
      },
      "source": [
        "Arma un programa que nos diga en forma de oración **\"X tiene Y años\"** para cada uno de los 4 participantes. (Ej - Laura tiene 28 años cumplidos)"
      ]
    },
    {
      "cell_type": "code",
      "execution_count": null,
      "id": "970cdb13-b10d-44e8-a9f5-e8aa40bd302a",
      "metadata": {
        "id": "970cdb13-b10d-44e8-a9f5-e8aa40bd302a"
      },
      "outputs": [],
      "source": [
        "# Diccionario de usuarios y edades\n",
        "diccionario_usuarios_edades = {\n",
        "    \"Laura\": 28,\n",
        "    \"Daniel\": 31,\n",
        "    \"Alberto\": 27,\n",
        "    \"Rogelio\": 65\n",
        "}\n",
        "\n",
        "# Generar una oración para cada usuario\n",
        "for usuario, edad in diccionario_usuarios_edades.items():\n",
        "    print(f\"{usuario} tiene {edad} años cumplidos.\")\n"
      ]
    },
    {
      "cell_type": "markdown",
      "id": "87c1264a-a744-4c54-a3e3-8939ed8b598d",
      "metadata": {
        "id": "87c1264a-a744-4c54-a3e3-8939ed8b598d"
      },
      "source": [
        "Accede a 2 usuarios mediante sus llaves"
      ]
    },
    {
      "cell_type": "code",
      "execution_count": null,
      "id": "52077df1-c3d6-4801-a295-ca591ef7c56a",
      "metadata": {
        "id": "52077df1-c3d6-4801-a295-ca591ef7c56a"
      },
      "outputs": [],
      "source": [
        "# Diccionario de usuarios y edades\n",
        "diccionario_usuarios_edades = {\n",
        "    \"Laura\": 28,\n",
        "    \"Daniel\": 31,\n",
        "    \"Alberto\": 27,\n",
        "    \"Rogelio\": 65\n",
        "}\n",
        "\n",
        "# Acceder a los valores de dos usuarios específicos\n",
        "usuario1 = \"Laura\"\n",
        "usuario2 = \"Alberto\"\n",
        "\n",
        "print(f\"{usuario1} tiene {diccionario_usuarios_edades[usuario1]} años.\")\n",
        "print(f\"{usuario2} tiene {diccionario_usuarios_edades[usuario2]} años.\")\n"
      ]
    },
    {
      "cell_type": "markdown",
      "id": "6d18665e-bb15-4c63-94cf-c544f63526c8",
      "metadata": {
        "id": "6d18665e-bb15-4c63-94cf-c544f63526c8"
      },
      "source": [
        "Cambia el valor de alguan de las llaves - Resulta que Rogelio en realidad tiene 35 años"
      ]
    },
    {
      "cell_type": "code",
      "execution_count": null,
      "id": "579ea942-31e0-4d71-80be-c676fd8e08c3",
      "metadata": {
        "id": "579ea942-31e0-4d71-80be-c676fd8e08c3"
      },
      "outputs": [],
      "source": [
        "# Diccionario de usuarios y edades\n",
        "diccionario_usuarios_edades = {\n",
        "    \"Laura\": 28,\n",
        "    \"Daniel\": 31,\n",
        "    \"Alberto\": 27,\n",
        "    \"Rogelio\": 65\n",
        "}\n",
        "\n",
        "# Cambiar la edad de Rogelio a 35 años\n",
        "diccionario_usuarios_edades[\"Rogelio\"] = 35\n",
        "\n",
        "print(\"Nuevo diccionario de usuarios y edades:\", diccionario_usuarios_edades)\n"
      ]
    },
    {
      "cell_type": "markdown",
      "id": "155ae81f-3c33-4fa7-81b5-df3e3b8ca305",
      "metadata": {
        "id": "155ae81f-3c33-4fa7-81b5-df3e3b8ca305"
      },
      "source": [
        "Se integra un nuevo elemento - Eva de 29 años, agregala al diccionario"
      ]
    },
    {
      "cell_type": "code",
      "execution_count": null,
      "id": "d28563f3-9f04-4ae5-bb0c-2084f303b0ff",
      "metadata": {
        "id": "d28563f3-9f04-4ae5-bb0c-2084f303b0ff"
      },
      "outputs": [],
      "source": [
        "# Diccionario de usuarios y edades\n",
        "diccionario_usuarios_edades = {\n",
        "    \"Laura\": 28,\n",
        "    \"Daniel\": 31,\n",
        "    \"Alberto\": 27,\n",
        "    \"Rogelio\": 35\n",
        "}\n",
        "\n",
        "# Agregar a Eva al diccionario\n",
        "diccionario_usuarios_edades[\"Eva\"] = 29\n",
        "\n",
        "print(\"Nuevo diccionario de usuarios y edades:\", diccionario_usuarios_edades)\n"
      ]
    },
    {
      "cell_type": "markdown",
      "id": "e3ae2374-92e9-4e52-9142-bc8026ede129",
      "metadata": {
        "id": "e3ae2374-92e9-4e52-9142-bc8026ede129"
      },
      "source": [
        "Daniel decidió que no somos lo suficientemente cool para el - borralo del diccionario"
      ]
    },
    {
      "cell_type": "code",
      "execution_count": null,
      "id": "e0d99cbb-4663-4823-b5ce-1b7223cbe1ba",
      "metadata": {
        "id": "e0d99cbb-4663-4823-b5ce-1b7223cbe1ba"
      },
      "outputs": [],
      "source": [
        "# Diccionario de usuarios y edades\n",
        "diccionario_usuarios_edades = {\n",
        "    \"Laura\": 28,\n",
        "    \"Daniel\": 31,\n",
        "    \"Alberto\": 27,\n",
        "    \"Rogelio\": 35,\n",
        "    \"Eva\": 29\n",
        "}\n",
        "\n",
        "# Eliminar a Daniel del diccionario\n",
        "del diccionario_usuarios_edades[\"Daniel\"]\n",
        "\n",
        "print(\"Nuevo diccionario de usuarios y edades:\", diccionario_usuarios_edades)\n"
      ]
    },
    {
      "cell_type": "markdown",
      "id": "15b9303f-d37a-4789-9858-6d38c39280e0",
      "metadata": {
        "id": "15b9303f-d37a-4789-9858-6d38c39280e0"
      },
      "source": [
        "¿Qué pasa si buscas a Pepe aunque no este en el diccionario?"
      ]
    },
    {
      "cell_type": "code",
      "execution_count": null,
      "id": "ce44d1a5-ff1f-41c4-bbfb-ec65f98962b0",
      "metadata": {
        "id": "ce44d1a5-ff1f-41c4-bbfb-ec65f98962b0"
      },
      "outputs": [],
      "source": [
        "# Diccionario de usuarios y edades\n",
        "diccionario_usuarios_edades = {\n",
        "    \"Laura\": 28,\n",
        "    \"Alberto\": 27,\n",
        "    \"Rogelio\": 35,\n",
        "    \"Eva\": 29\n",
        "}\n",
        "\n",
        "# Intentar acceder a la edad de Pepe, que no está en el diccionario\n",
        "print(diccionario_usuarios_edades[\"Pepe\"])\n"
      ]
    },
    {
      "cell_type": "markdown",
      "id": "79fa3a8b-285b-41a9-8635-a577495547d6",
      "metadata": {
        "id": "79fa3a8b-285b-41a9-8635-a577495547d6"
      },
      "source": [
        "¿Cual era la edad de Eva?"
      ]
    },
    {
      "cell_type": "code",
      "execution_count": null,
      "id": "43e33511-5d73-4430-8e06-2a86b74cf9ed",
      "metadata": {
        "id": "43e33511-5d73-4430-8e06-2a86b74cf9ed"
      },
      "outputs": [],
      "source": [
        "# Diccionario de usuarios y edades\n",
        "diccionario_usuarios_edades = {\n",
        "    \"Laura\": 28,\n",
        "    \"Alberto\": 27,\n",
        "    \"Rogelio\": 35,\n",
        "    \"Eva\": 29\n",
        "}\n",
        "\n",
        "# Obtener la edad de Eva\n",
        "edad_eva = diccionario_usuarios_edades[\"Eva\"]\n",
        "\n",
        "print(\"La edad de Eva es:\", edad_eva)\n"
      ]
    },
    {
      "cell_type": "markdown",
      "id": "b48bc20c-9a23-4c88-95fe-e5ac6e7b5c52",
      "metadata": {
        "id": "b48bc20c-9a23-4c88-95fe-e5ac6e7b5c52"
      },
      "source": [
        "Ahora usa Get para conocer la edad Edad de Pepe y evitar un error"
      ]
    },
    {
      "cell_type": "code",
      "execution_count": null,
      "id": "692a6449-cf1a-47cb-a23a-c22e4d08f4f0",
      "metadata": {
        "id": "692a6449-cf1a-47cb-a23a-c22e4d08f4f0"
      },
      "outputs": [],
      "source": [
        "# Diccionario de usuarios y edades\n",
        "diccionario_usuarios_edades = {\n",
        "    \"Laura\": 28,\n",
        "    \"Alberto\": 27,\n",
        "    \"Rogelio\": 35,\n",
        "    \"Eva\": 29\n",
        "}\n",
        "\n",
        "# Obtener la edad de Pepe con un valor predeterminado de -1 si no está en el diccionario\n",
        "edad_pepe = diccionario_usuarios_edades.get(\"Pepe\", -1)\n",
        "\n",
        "if edad_pepe != -1:\n",
        "    print(\"La edad de Pepe es:\", edad_pepe)\n",
        "else:\n",
        "    print(\"Pepe no está en el diccionario.\")\n"
      ]
    },
    {
      "cell_type": "markdown",
      "id": "c74b6ba7-7a8e-461d-9648-7e7246259d5f",
      "metadata": {
        "id": "c74b6ba7-7a8e-461d-9648-7e7246259d5f"
      },
      "source": [
        "Prueba si Pepe y Eva están en el diccionario"
      ]
    },
    {
      "cell_type": "code",
      "execution_count": null,
      "id": "28a16b5e-0088-4a6d-b830-581f3639388d",
      "metadata": {
        "id": "28a16b5e-0088-4a6d-b830-581f3639388d"
      },
      "outputs": [],
      "source": [
        "# Diccionario de usuarios y edades\n",
        "diccionario_usuarios_edades = {\n",
        "    \"Laura\": 28,\n",
        "    \"Alberto\": 27,\n",
        "    \"Rogelio\": 35,\n",
        "    \"Eva\": 29\n",
        "}\n",
        "\n",
        "# Verificar si Pepe está en el diccionario\n",
        "if \"Pepe\" in diccionario_usuarios_edades:\n",
        "    print(\"Pepe está en el diccionario.\")\n",
        "else:\n",
        "    print(\"Pepe no está en el diccionario.\")\n",
        "\n",
        "# Verificar si Eva está en el diccionario\n",
        "if \"Eva\" in diccionario_usuarios_edades:\n",
        "    print(\"Eva está en el diccionario.\")\n",
        "else:\n",
        "    print(\"Eva no está en el diccionario.\")\n"
      ]
    },
    {
      "cell_type": "markdown",
      "id": "dd42c5d0-15ab-40ad-a1ee-413c49c159c9",
      "metadata": {
        "id": "dd42c5d0-15ab-40ad-a1ee-413c49c159c9"
      },
      "source": [
        "---"
      ]
    },
    {
      "cell_type": "markdown",
      "id": "daa95669-469e-426d-8c39-bd313b11067e",
      "metadata": {
        "id": "daa95669-469e-426d-8c39-bd313b11067e"
      },
      "source": [
        "###Métodos de Diccionario"
      ]
    },
    {
      "cell_type": "markdown",
      "id": "ac8c9e61-9545-4c74-9db3-a23752e8b075",
      "metadata": {
        "id": "ac8c9e61-9545-4c74-9db3-a23752e8b075"
      },
      "source": [
        "Anteriormente, usamos el método **items** para iterar a través de las tuplas de un key-value pair. Asimismo, lo métodos **keys** y **values** pueden susares para iterar las llaves y valores de un diccionario."
      ]
    },
    {
      "cell_type": "markdown",
      "id": "0637e873-e5e1-4d5c-9314-390963fe41fc",
      "metadata": {
        "id": "0637e873-e5e1-4d5c-9314-390963fe41fc"
      },
      "source": [
        "Arma un for que muestre los nombres de los participantes - sacados de usuario_edad"
      ]
    },
    {
      "cell_type": "code",
      "execution_count": null,
      "id": "cc3ce0e1-96ee-4a97-b95b-23da9087693f",
      "metadata": {
        "id": "cc3ce0e1-96ee-4a97-b95b-23da9087693f"
      },
      "outputs": [],
      "source": [
        "# Diccionario de usuarios y edades\n",
        "diccionario_usuarios_edades = {\n",
        "    \"Laura\": 28,\n",
        "    \"Alberto\": 27,\n",
        "    \"Rogelio\": 35,\n",
        "    \"Eva\": 29\n",
        "}\n",
        "\n",
        "# Mostrar los nombres de los participantes\n",
        "for nombre in diccionario_usuarios_edades.keys():\n",
        "    print(nombre)\n"
      ]
    },
    {
      "cell_type": "markdown",
      "id": "bee68c8b-a8c1-4765-a4b0-dbc67d45939d",
      "metadata": {
        "id": "bee68c8b-a8c1-4765-a4b0-dbc67d45939d"
      },
      "source": [
        "Arma un for que muestre las edades de los participantes"
      ]
    },
    {
      "cell_type": "code",
      "execution_count": null,
      "id": "00628f5d-675b-4e96-a863-f8da06c8365f",
      "metadata": {
        "id": "00628f5d-675b-4e96-a863-f8da06c8365f"
      },
      "outputs": [],
      "source": [
        "# Diccionario de usuarios y edades\n",
        "diccionario_usuarios_edades = {\n",
        "    \"Laura\": 28,\n",
        "    \"Alberto\": 27,\n",
        "    \"Rogelio\": 35,\n",
        "    \"Eva\": 29\n",
        "}\n",
        "\n",
        "# Mostrar las edades de los participantes\n",
        "for edad in diccionario_usuarios_edades.values():\n",
        "    print(edad)\n"
      ]
    },
    {
      "cell_type": "markdown",
      "id": "a2efcae0-38e3-46bb-90c1-8462f6761309",
      "metadata": {
        "id": "a2efcae0-38e3-46bb-90c1-8462f6761309"
      },
      "source": [
        "Si añadimos otro elemento al diccionario..."
      ]
    },
    {
      "cell_type": "code",
      "execution_count": null,
      "id": "5d8c1a4a-f00e-49fb-b555-2c3c29888ee6",
      "metadata": {
        "id": "5d8c1a4a-f00e-49fb-b555-2c3c29888ee6"
      },
      "outputs": [],
      "source": [
        "# Diccionario de usuarios y edades\n",
        "diccionario_usuarios_edades = {\n",
        "    \"Laura\": 28,\n",
        "    \"Alberto\": 27,\n",
        "    \"Rogelio\": 35,\n",
        "    \"Eva\": 29\n",
        "}\n",
        "\n",
        "# Agregar un nuevo participante al diccionario\n",
        "diccionario_usuarios_edades[\"Pedro\"] = 32\n",
        "\n",
        "# Mostrar los nombres de los participantes\n",
        "print(\"Nombres de los participantes:\")\n",
        "for nombre in diccionario_usuarios_edades.keys():\n",
        "    print(nombre)\n",
        "\n",
        "# Mostrar las edades de los participantes\n",
        "print(\"\\nEdades de los participantes:\")\n",
        "for edad in diccionario_usuarios_edades.values():\n",
        "    print(edad)\n"
      ]
    },
    {
      "cell_type": "markdown",
      "id": "6e8eb45a-ce42-4909-abe8-12dc180ae658",
      "metadata": {
        "id": "6e8eb45a-ce42-4909-abe8-12dc180ae658"
      },
      "source": [
        "Revisa que aparece en Views"
      ]
    },
    {
      "cell_type": "code",
      "execution_count": null,
      "id": "2efaa44d-14a5-44d1-9ade-209093096ead",
      "metadata": {
        "id": "2efaa44d-14a5-44d1-9ade-209093096ead"
      },
      "outputs": [],
      "source": [
        "# Diccionario de usuarios y edades\n",
        "diccionario_usuarios_edades = {\n",
        "    \"Laura\": 28,\n",
        "    \"Alberto\": 27,\n",
        "    \"Rogelio\": 35,\n",
        "    \"Eva\": 29\n",
        "}\n",
        "\n",
        "# Obtener la vista de valores del diccionario\n",
        "vista_valores = diccionario_usuarios_edades.values()\n",
        "\n",
        "# Mostrar la vista de valores\n",
        "print(\"Vista de valores del diccionario:\")\n",
        "print(vista_valores)\n"
      ]
    },
    {
      "cell_type": "markdown",
      "id": "504bc570-328f-4496-836e-1f000c3cfe31",
      "metadata": {
        "id": "504bc570-328f-4496-836e-1f000c3cfe31"
      },
      "source": [
        "A veces es necesario trabajar con las llaves y valores del diccionario - Eso lo logramos convirtiendo nuestras llaves y valores en listas con la función **list**"
      ]
    },
    {
      "cell_type": "code",
      "execution_count": null,
      "id": "e61b3b59-5b78-4896-81da-f393972abe6f",
      "metadata": {
        "id": "e61b3b59-5b78-4896-81da-f393972abe6f"
      },
      "outputs": [],
      "source": [
        "# Diccionario de usuarios y edades\n",
        "diccionario_usuarios_edades = {\n",
        "    \"Laura\": 28,\n",
        "    \"Alberto\": 27,\n",
        "    \"Rogelio\": 35,\n",
        "    \"Eva\": 29\n",
        "}\n",
        "\n",
        "# Convertir las llaves en una lista\n",
        "lista_llaves = list(diccionario_usuarios_edades.keys())\n",
        "\n",
        "# Convertir los valores en una lista\n",
        "lista_valores = list(diccionario_usuarios_edades.values())\n",
        "\n",
        "# Mostrar las listas de llaves y valores\n",
        "print(\"Lista de llaves del diccionario:\", lista_llaves)\n",
        "print(\"Lista de valores del diccionario:\", lista_valores)\n"
      ]
    },
    {
      "cell_type": "markdown",
      "id": "33f60221-9dea-4750-8b35-e80411e8268a",
      "metadata": {
        "id": "33f60221-9dea-4750-8b35-e80411e8268a"
      },
      "source": [
        "Para ordenar en orden alfabético las llaves del diccionario"
      ]
    },
    {
      "cell_type": "code",
      "execution_count": null,
      "id": "c190d218-9ea0-44c3-a346-b409516f478a",
      "metadata": {
        "id": "c190d218-9ea0-44c3-a346-b409516f478a"
      },
      "outputs": [],
      "source": [
        "# Diccionario de usuarios y edades\n",
        "diccionario_usuarios_edades = {\n",
        "    \"Laura\": 28,\n",
        "    \"Alberto\": 27,\n",
        "    \"Rogelio\": 35,\n",
        "    \"Eva\": 29\n",
        "}\n",
        "\n",
        "# Obtener las llaves del diccionario y ordenarlas alfabéticamente\n",
        "llaves_ordenadas = sorted(diccionario_usuarios_edades.keys())\n",
        "\n",
        "# Mostrar las llaves ordenadas\n",
        "print(\"Llaves ordenadas alfabéticamente:\", llaves_ordenadas)\n"
      ]
    },
    {
      "cell_type": "markdown",
      "id": "a33137d1-1133-4106-888d-cb5a283e3c05",
      "metadata": {
        "id": "a33137d1-1133-4106-888d-cb5a283e3c05"
      },
      "source": [
        "#### Por tu cuenta"
      ]
    },
    {
      "cell_type": "markdown",
      "id": "879241a8-fe37-4b1e-9705-bdf082ebe332",
      "metadata": {
        "id": "879241a8-fe37-4b1e-9705-bdf082ebe332"
      },
      "source": [
        "Para el siguiente diccionario, crea listas de sus **llaves**, **valores** y **items** - y muestra esas listas\n",
        "\n",
        "Municipios_poblacion = {\"Acatic\" : 23175, \"Acatlan de Juarez\" : 25250, \"Ameca\" : 60386, \"Arandas\" : 80609}"
      ]
    },
    {
      "cell_type": "code",
      "execution_count": null,
      "id": "3fe5e41c-03bc-455e-87ca-a0c6bf8391bb",
      "metadata": {
        "id": "3fe5e41c-03bc-455e-87ca-a0c6bf8391bb"
      },
      "outputs": [],
      "source": [
        "Municipios_poblacion = {\n",
        "    \"Acatic\": 23175,\n",
        "    \"Acatlan de Juarez\": 25250,\n",
        "    \"Ameca\": 60386,\n",
        "    \"Arandas\": 80609\n",
        "}\n",
        "\n",
        "llaves = list(Municipios_poblacion.keys())\n",
        "valores = list(Municipios_poblacion.values())\n",
        "items = list(Municipios_poblacion.items())\n",
        "\n",
        "print(\"Lista de llaves:\", llaves)\n",
        "print(\"Lista de valores:\", valores)\n",
        "print(\"Lista de items:\", items)"
      ]
    },
    {
      "cell_type": "markdown",
      "id": "9057c694-02e6-45e8-af3c-70906a393579",
      "metadata": {
        "id": "9057c694-02e6-45e8-af3c-70906a393579"
      },
      "source": [
        "Python te permite comparar diccionarios .\n",
        "\n",
        "Compara estos 3:\n",
        "    \n",
        "asistentes_dia1={'Ramírez':'Laura','Cortés': 'Daniel','Pérez':'Alberto'}\n",
        "\n",
        "asistentes_dia2={'García':'Rogelio','Ramírez': 'Laura','Pérez':'Alberto'}\n",
        "\n",
        "asistentes_dia3={'Pérez':'Alberto','Cortés': 'Daniel','Ramírez':'Laura'}"
      ]
    },
    {
      "cell_type": "code",
      "execution_count": null,
      "id": "adc41a74-f2ca-4435-9178-3b20ee26d074",
      "metadata": {
        "id": "adc41a74-f2ca-4435-9178-3b20ee26d074"
      },
      "outputs": [],
      "source": [
        "# Diccionarios de asistentes\n",
        "asistentes_dia1 = {'Ramírez': 'Laura', 'Cortés': 'Daniel', 'Pérez': 'Alberto'}\n",
        "asistentes_dia2 = {'García': 'Rogelio', 'Ramírez': 'Laura', 'Pérez': 'Alberto'}\n",
        "asistentes_dia3 = {'Pérez': 'Alberto', 'Cortés': 'Daniel', 'Ramírez': 'Laura'}\n",
        "\n",
        "# Comparar si los diccionarios son iguales\n",
        "if asistentes_dia1 == asistentes_dia2 == asistentes_dia3:\n",
        "    print(\"Los tres diccionarios son iguales.\")\n",
        "else:\n",
        "    print(\"Los tres diccionarios no son iguales.\")\n"
      ]
    },
    {
      "cell_type": "markdown",
      "id": "23f834e0-5995-446e-931a-4a291efa7b9d",
      "metadata": {
        "id": "23f834e0-5995-446e-931a-4a291efa7b9d"
      },
      "source": [
        "#### Elemplo 2\n",
        "\n",
        "Arma un programa que utilice diccionarios, el método split, y el método items, asi como 2 ciclos for, para contar la cantidad de palabras en esta oración.Tu resultado debe de ser una tablita de 2 columnas donde muestres la palabra y la repetición:"
      ]
    },
    {
      "cell_type": "code",
      "execution_count": null,
      "id": "efe2f522-6349-4eef-9fc2-f9359e4002a7",
      "metadata": {
        "id": "efe2f522-6349-4eef-9fc2-f9359e4002a7"
      },
      "outputs": [],
      "source": [
        "# Oración de ejemplo\n",
        "oracion = \"El sol brilla sobre el mar y las olas.\"\n",
        "\n",
        "# Dividir la oración en palabras\n",
        "palabras = oracion.split()\n",
        "\n",
        "# Crear un diccionario para contar las repeticiones de cada palabra\n",
        "contador_palabras = {}\n",
        "\n",
        "# Contar las repeticiones de cada palabra\n",
        "for palabra in palabras:\n",
        "    # Si la palabra ya está en el diccionario, aumentar su contador\n",
        "    if palabra in contador_palabras:\n",
        "        contador_palabras[palabra] += 1\n",
        "    # Si la palabra no está en el diccionario, agregarla con un contador inicial de 1\n",
        "    else:\n",
        "        contador_palabras[palabra] = 1\n",
        "\n",
        "# Mostrar el resultado en una tabla\n",
        "print(\"Palabra\\t\\tRepetición\")\n",
        "print(\"-\" * 20)\n",
        "for palabra, repeticion in contador_palabras.items():\n",
        "    print(f\"{palabra.ljust(10)}\\t\\t{repeticion}\")\n",
        "\n"
      ]
    },
    {
      "cell_type": "markdown",
      "id": "13b856f3-c492-44b9-a564-e14c87305475",
      "metadata": {
        "id": "13b856f3-c492-44b9-a564-e14c87305475"
      },
      "source": [
        "Ahora utiliza la herramienta Counter de Python para realizar la misma tarea con el **cuento**"
      ]
    },
    {
      "cell_type": "code",
      "execution_count": null,
      "id": "0a75344d-5b6f-4366-9604-03a996d1f85d",
      "metadata": {
        "id": "0a75344d-5b6f-4366-9604-03a996d1f85d"
      },
      "outputs": [],
      "source": [
        "from collections import Counter\n",
        "\n",
        "# Oración de ejemplo\n",
        "oracion = \"El sol brilla sobre el mar y las olas.\"\n",
        "\n",
        "# Dividir la oración en palabras\n",
        "palabras = oracion.split()\n",
        "\n",
        "# Contar las repeticiones de cada palabra utilizando Counter\n",
        "contador_palabras = Counter(palabras)\n",
        "\n",
        "# Mostrar el resultado en una tabla\n",
        "print(\"Palabra\\t\\tRepetición\")\n",
        "print(\"-\" * 20)\n",
        "for palabra, repeticion in contador_palabras.items():\n",
        "    print(f\"{palabra.ljust(10)}\\t\\t{repeticion}\")\n"
      ]
    },
    {
      "cell_type": "markdown",
      "id": "d0b9199d-c46d-4086-b906-c62106be610b",
      "metadata": {
        "id": "d0b9199d-c46d-4086-b906-c62106be610b"
      },
      "source": [
        "---"
      ]
    },
    {
      "cell_type": "markdown",
      "id": "144c9fc3-fca2-4829-9e05-38e76a62a6d1",
      "metadata": {
        "id": "144c9fc3-fca2-4829-9e05-38e76a62a6d1"
      },
      "source": [
        "##Comprensión de Diccionarios\n",
        "\n",
        "La comprensión de diciconarios, igual que la de listas, te da una notación más compacta para generar diccionarios."
      ]
    },
    {
      "cell_type": "markdown",
      "id": "98e361ed-7508-464d-a1bd-b0ea0daa05a9",
      "metadata": {
        "id": "98e361ed-7508-464d-a1bd-b0ea0daa05a9"
      },
      "source": [
        "Revisa el siguiente ejemplo donde intercambiamos los pares valor-llave de\n",
        "\n",
        "usuario_edad={'Laura':28,'Daniel':31,'Alberto':27,'Rogelio':65}"
      ]
    },
    {
      "cell_type": "code",
      "execution_count": null,
      "id": "aff13c2b-4d82-4dcd-8400-e09a34eacbde",
      "metadata": {
        "id": "aff13c2b-4d82-4dcd-8400-e09a34eacbde"
      },
      "outputs": [],
      "source": [
        "# Diccionario original\n",
        "usuario_edad = {'Laura': 28, 'Daniel': 31, 'Alberto': 27, 'Rogelio': 65}\n",
        "\n",
        "# Intercambiar pares valor-llave\n",
        "edad_usuario = {edad: usuario for usuario, edad in usuario_edad.items()}\n",
        "\n",
        "# Mostrar el nuevo diccionario\n",
        "print(\"Nuevo diccionario (edad_usuario):\", edad_usuario)\n"
      ]
    },
    {
      "cell_type": "markdown",
      "id": "50755094-5f01-463e-aa75-5a48d0e8da95",
      "metadata": {
        "id": "50755094-5f01-463e-aa75-5a48d0e8da95"
      },
      "source": [
        "También podemos mapear valores nuevos, revisa como convertimos las ventas de agentes en ventas promedio (en un nuevo diccionario)\n",
        "\n",
        "ventas_agentes= {'Laura': [12000, 10500, 9800, 11100], 'Daniel': [11000, 7800, 7200, 6500], 'Alberto': [11200, 9500, 10800, 10100]}"
      ]
    },
    {
      "cell_type": "code",
      "execution_count": null,
      "id": "2e1cff5f-b8af-4c3f-89fe-4c36ed07bf16",
      "metadata": {
        "id": "2e1cff5f-b8af-4c3f-89fe-4c36ed07bf16"
      },
      "outputs": [],
      "source": [
        "# Diccionario de ventas de agentes\n",
        "ventas_agentes = {\n",
        "    'Laura': [12000, 10500, 9800, 11100],\n",
        "    'Daniel': [11000, 7800, 7200, 6500],\n",
        "    'Alberto': [11200, 9500, 10800, 10100]\n",
        "}\n",
        "\n",
        "# Calcular las ventas promedio de cada agente\n",
        "ventas_promedio = {agente: sum(ventas) / len(ventas) for agente, ventas in ventas_agentes.items()}\n",
        "\n",
        "# Mostrar el nuevo diccionario de ventas promedio\n",
        "print(\"Ventas promedio de cada agente:\", ventas_promedio)\n"
      ]
    },
    {
      "cell_type": "markdown",
      "id": "44f6fdf0-144e-4848-8029-db57008ad1e5",
      "metadata": {
        "id": "44f6fdf0-144e-4848-8029-db57008ad1e5"
      },
      "source": [
        "#### Por tu cuenta\n",
        "\n",
        "Usa una comprensión de diccionario para crear un diccionario de los números 4-10 mapeado a sus cuadrados"
      ]
    },
    {
      "cell_type": "code",
      "execution_count": null,
      "id": "6396beae-fbd4-46ca-84ef-a3b1fa224e90",
      "metadata": {
        "id": "6396beae-fbd4-46ca-84ef-a3b1fa224e90"
      },
      "outputs": [],
      "source": [
        "cuadrados = {n: n**2 for n in range(4, 11)}\n",
        "\n",
        "print(cuadrados)"
      ]
    },
    {
      "cell_type": "markdown",
      "id": "13a063ad-5c36-49b1-8d5b-18cf35b41e13",
      "metadata": {
        "id": "13a063ad-5c36-49b1-8d5b-18cf35b41e13"
      },
      "source": [
        "---"
      ]
    },
    {
      "cell_type": "markdown",
      "id": "8a231f1d-c2ac-4676-adce-58e91d69b68e",
      "metadata": {
        "id": "8a231f1d-c2ac-4676-adce-58e91d69b68e"
      },
      "source": [
        "###Conjuntos (SETS)\n",
        "\n",
        "Un conjunto es una colección no ordenada de valores únicos.\n",
        "\n",
        "El código siguiente genera un conjunto llamado animales\n",
        "\n",
        "animales={'gato','ratón','perro','garza','perico','perro','pato'}"
      ]
    },
    {
      "cell_type": "code",
      "execution_count": null,
      "id": "7dc74c02-6499-4171-a0ee-f3192cdb832a",
      "metadata": {
        "id": "7dc74c02-6499-4171-a0ee-f3192cdb832a"
      },
      "outputs": [],
      "source": [
        "animales = {'gato', 'ratón', 'perro', 'garza', 'perico', 'perro', 'pato'}\n"
      ]
    },
    {
      "cell_type": "markdown",
      "id": "8015fd4c-36ce-4303-aa94-b4077da97a55",
      "metadata": {
        "id": "8015fd4c-36ce-4303-aa94-b4077da97a55"
      },
      "source": [
        "Para determinar la cantidad de elementos"
      ]
    },
    {
      "cell_type": "code",
      "execution_count": null,
      "id": "fed25850-a294-4bb6-99b9-b70e7ae96b72",
      "metadata": {
        "id": "fed25850-a294-4bb6-99b9-b70e7ae96b72"
      },
      "outputs": [],
      "source": [
        "animales = {'gato', 'ratón', 'perro', 'garza', 'perico', 'perro', 'pato'}\n",
        "\n",
        "# Determinar la cantidad de elementos en el conjunto\n",
        "cantidad_elementos = len(animales)\n",
        "\n",
        "print(\"Cantidad de elementos en el conjunto:\", cantidad_elementos)\n"
      ]
    },
    {
      "cell_type": "markdown",
      "id": "37276167-14bf-434c-8158-2278279d1778",
      "metadata": {
        "id": "37276167-14bf-434c-8158-2278279d1778"
      },
      "source": [
        "Si quieres verificar si algún elemento está incluido en el conjunto"
      ]
    },
    {
      "cell_type": "code",
      "execution_count": null,
      "id": "6cf668d3-31dc-4dbb-a7af-569e238ce4fe",
      "metadata": {
        "id": "6cf668d3-31dc-4dbb-a7af-569e238ce4fe"
      },
      "outputs": [],
      "source": [
        "animales = {'gato', 'ratón', 'perro', 'garza', 'perico', 'perro', 'pato'}\n",
        "\n",
        "# Verificar si 'perro' está incluido en el conjunto\n",
        "if 'perro' in animales:\n",
        "    print(\"'perro' está incluido en el conjunto\")\n",
        "else:\n",
        "    print(\"'perro' no está incluido en el conjunto\")\n",
        "\n",
        "# Verificar si 'elefante' está incluido en el conjunto\n",
        "if 'elefante' in animales:\n",
        "    print(\"'elefante' está incluido en el conjunto\")\n",
        "else:\n",
        "    print(\"'elefante' no está incluido en el conjunto\")\n"
      ]
    },
    {
      "cell_type": "markdown",
      "id": "33563814-1bb1-4641-9c34-d68f11aae5dd",
      "metadata": {
        "id": "33563814-1bb1-4641-9c34-d68f11aae5dd"
      },
      "source": [
        "Los conjuntos son iterables - revisa como convertimos todo el conjunto a mayusculas con el método upper y un for"
      ]
    },
    {
      "cell_type": "code",
      "execution_count": null,
      "id": "ce1e57c4-a928-4e57-a162-2a13b133acd0",
      "metadata": {
        "id": "ce1e57c4-a928-4e57-a162-2a13b133acd0"
      },
      "outputs": [],
      "source": [
        "animales = {'gato', 'ratón', 'perro', 'garza', 'perico', 'pato'}\n",
        "\n",
        "# Convertir todos los elementos del conjunto a mayúsculas\n",
        "animales_mayusculas = {animal.upper() for animal in animales}\n",
        "\n",
        "# Mostrar el conjunto resultante\n",
        "print(\"Conjunto en mayúsculas:\", animales_mayusculas)\n"
      ]
    },
    {
      "cell_type": "markdown",
      "id": "e1cc89ab-a5d1-4954-b1e8-c2156894e4b4",
      "metadata": {
        "id": "e1cc89ab-a5d1-4954-b1e8-c2156894e4b4"
      },
      "source": [
        "Revisa que puedes crear un conjunto a partir de listas usando la función set. Primero vamos a crear y unir 2 listas - pares me dará todos los números pares del 0 al 15, y se unirá con todos los pares del 8 al 29"
      ]
    },
    {
      "cell_type": "code",
      "execution_count": null,
      "id": "5a531e84-695b-49b2-9a5c-8c0de5c4d5de",
      "metadata": {
        "id": "5a531e84-695b-49b2-9a5c-8c0de5c4d5de"
      },
      "outputs": [],
      "source": [
        "# Crear una lista con todos los números pares del 0 al 15\n",
        "pares_0_15 = [i for i in range(0, 16, 2)]\n",
        "\n",
        "# Crear una lista con todos los números pares del 8 al 29\n",
        "pares_8_29 = [i for i in range(8, 30, 2)]\n",
        "\n",
        "# Unir las dos listas\n",
        "todos_los_pares = pares_0_15 + pares_8_29\n",
        "\n",
        "# Crear un conjunto a partir de la lista unida para obtener los elementos únicos\n",
        "conjunto_de_pares = set(todos_los_pares)\n",
        "\n",
        "# Mostrar el conjunto resultante\n",
        "print(\"Conjunto de todos los números pares:\", conjunto_de_pares)\n"
      ]
    },
    {
      "cell_type": "markdown",
      "id": "58b1571c-fe3c-4435-a791-19c164f5a905",
      "metadata": {
        "id": "58b1571c-fe3c-4435-a791-19c164f5a905"
      },
      "source": [
        "Y ahora la convertiremos en un set"
      ]
    },
    {
      "cell_type": "code",
      "execution_count": null,
      "id": "aa33f52a-5a05-4774-9c73-a39226c2cf3b",
      "metadata": {
        "id": "aa33f52a-5a05-4774-9c73-a39226c2cf3b"
      },
      "outputs": [],
      "source": [
        "# Lista de todos los números pares del 0 al 15\n",
        "pares_0_15 = [i for i in range(0, 16, 2)]\n",
        "\n",
        "# Lista de todos los números pares del 8 al 29\n",
        "pares_8_29 = [i for i in range(8, 30, 2)]\n",
        "\n",
        "# Unir las dos listas\n",
        "todos_los_pares = pares_0_15 + pares_8_29\n",
        "\n",
        "# Convertir la lista en un conjunto\n",
        "conjunto_de_pares = set(todos_los_pares)\n",
        "\n",
        "# Mostrar el conjunto resultante\n",
        "print(\"Conjunto de todos los números pares:\", conjunto_de_pares)\n"
      ]
    },
    {
      "cell_type": "markdown",
      "id": "6588336b-e4a5-4ad4-8bb8-c30f3df0f3c7",
      "metadata": {
        "id": "6588336b-e4a5-4ad4-8bb8-c30f3df0f3c7"
      },
      "source": [
        "#### Por tu cuenta\n",
        "\n",
        "Asigna la siguiente caden a una variable **texto** y luego dividela usando el método split y crea un set de los resultados. Muestra las palabrás únicas en orden sorted.\n",
        "\n",
        "'Un dragon tragon trago carbon y quedo panzon, ah que dragon tan tragon\""
      ]
    },
    {
      "cell_type": "code",
      "execution_count": null,
      "id": "b184183a-d76d-459f-89c1-79eeeec87fb3",
      "metadata": {
        "id": "b184183a-d76d-459f-89c1-79eeeec87fb3"
      },
      "outputs": [],
      "source": [
        "texto = 'Un dragon tragon trago carbon y quedo panzon, ah que dragon tan tragon'\n",
        "\n",
        "palabras = texto.split()\n",
        "\n",
        "palabras_unicas = set(palabras)\n",
        "\n",
        "palabras_ordenadas = sorted(palabras_unicas)\n",
        "\n",
        "print(palabras_ordenadas)"
      ]
    },
    {
      "cell_type": "markdown",
      "id": "b879cb56-050e-4bb0-a9fd-88ce97dd877f",
      "metadata": {
        "id": "b879cb56-050e-4bb0-a9fd-88ce97dd877f"
      },
      "source": [
        "---"
      ]
    }
  ],
  "metadata": {
    "kernelspec": {
      "display_name": "Python 3",
      "language": "python",
      "name": "python3"
    },
    "language_info": {
      "codemirror_mode": {
        "name": "ipython",
        "version": 3
      },
      "file_extension": ".py",
      "mimetype": "text/x-python",
      "name": "python",
      "nbconvert_exporter": "python",
      "pygments_lexer": "ipython3",
      "version": "3.8.8"
    },
    "colab": {
      "provenance": [],
      "name": "Johan_vega_taller_s5_b_explorador_ia_G_51.ipynb"
    }
  },
  "nbformat": 4,
  "nbformat_minor": 5
}